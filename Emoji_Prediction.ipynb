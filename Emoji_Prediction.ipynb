{
  "nbformat": 4,
  "nbformat_minor": 0,
  "metadata": {
    "kernelspec": {
      "display_name": "Python 3",
      "language": "python",
      "name": "python3"
    },
    "language_info": {
      "codemirror_mode": {
        "name": "ipython",
        "version": 3
      },
      "file_extension": ".py",
      "mimetype": "text/x-python",
      "name": "python",
      "nbconvert_exporter": "python",
      "pygments_lexer": "ipython3",
      "version": "3.7.6"
    },
    "colab": {
      "name": "Emoji Prediction.ipynb",
      "provenance": [],
      "include_colab_link": true
    }
  },
  "cells": [
    {
      "cell_type": "markdown",
      "metadata": {
        "id": "view-in-github",
        "colab_type": "text"
      },
      "source": [
        "<a href=\"https://colab.research.google.com/github/bhargav-joshi/Emoji-Prediction/blob/master/Emoji_Prediction.ipynb\" target=\"_parent\"><img src=\"https://colab.research.google.com/assets/colab-badge.svg\" alt=\"Open In Colab\"/></a>"
      ]
    },
    {
      "cell_type": "code",
      "metadata": {
        "id": "qgmc-lS1PDBZ",
        "colab_type": "code",
        "colab": {},
        "outputId": "70fba510-6092-447a-a167-6fafd2673814"
      },
      "source": [
        "pip install emoji"
      ],
      "execution_count": null,
      "outputs": [
        {
          "output_type": "stream",
          "text": [
            "Requirement already satisfied: emoji in c:\\users\\bhargav\\anaconda3\\lib\\site-packages (0.5.4)\n",
            "Note: you may need to restart the kernel to use updated packages.\n"
          ],
          "name": "stdout"
        }
      ]
    },
    {
      "cell_type": "code",
      "metadata": {
        "id": "Osw-IDDaPDBe",
        "colab_type": "code",
        "colab": {}
      },
      "source": [
        "import emoji\n",
        "import pandas as pd\n",
        "import numpy as np"
      ],
      "execution_count": null,
      "outputs": []
    },
    {
      "cell_type": "code",
      "metadata": {
        "id": "uNuB-v33PDBg",
        "colab_type": "code",
        "colab": {},
        "outputId": "8ea0703b-85bf-41b3-d660-40921857fca9"
      },
      "source": [
        "emoji.EMOJI_UNICODE"
      ],
      "execution_count": null,
      "outputs": [
        {
          "output_type": "execute_result",
          "data": {
            "text/plain": [
              "{':1st_place_medal:': '🥇',\n",
              " ':2nd_place_medal:': '🥈',\n",
              " ':3rd_place_medal:': '🥉',\n",
              " ':AB_button_(blood_type):': '🆎',\n",
              " ':ATM_sign:': '🏧',\n",
              " ':A_button_(blood_type):': '🅰',\n",
              " ':Afghanistan:': '🇦🇫',\n",
              " ':Albania:': '🇦🇱',\n",
              " ':Algeria:': '🇩🇿',\n",
              " ':American_Samoa:': '🇦🇸',\n",
              " ':Andorra:': '🇦🇩',\n",
              " ':Angola:': '🇦🇴',\n",
              " ':Anguilla:': '🇦🇮',\n",
              " ':Antarctica:': '🇦🇶',\n",
              " ':Antigua_&_Barbuda:': '🇦🇬',\n",
              " ':Aquarius:': '♒',\n",
              " ':Argentina:': '🇦🇷',\n",
              " ':Aries:': '♈',\n",
              " ':Armenia:': '🇦🇲',\n",
              " ':Aruba:': '🇦🇼',\n",
              " ':Ascension_Island:': '🇦🇨',\n",
              " ':Australia:': '🇦🇺',\n",
              " ':Austria:': '🇦🇹',\n",
              " ':Azerbaijan:': '🇦🇿',\n",
              " ':BACK_arrow:': '🔙',\n",
              " ':B_button_(blood_type):': '🅱',\n",
              " ':Bahamas:': '🇧🇸',\n",
              " ':Bahrain:': '🇧🇭',\n",
              " ':Bangladesh:': '🇧🇩',\n",
              " ':Barbados:': '🇧🇧',\n",
              " ':Belarus:': '🇧🇾',\n",
              " ':Belgium:': '🇧🇪',\n",
              " ':Belize:': '🇧🇿',\n",
              " ':Benin:': '🇧🇯',\n",
              " ':Bermuda:': '🇧🇲',\n",
              " ':Bhutan:': '🇧🇹',\n",
              " ':Bolivia:': '🇧🇴',\n",
              " ':Bosnia_&_Herzegovina:': '🇧🇦',\n",
              " ':Botswana:': '🇧🇼',\n",
              " ':Bouvet_Island:': '🇧🇻',\n",
              " ':Brazil:': '🇧🇷',\n",
              " ':British_Indian_Ocean_Territory:': '🇮🇴',\n",
              " ':British_Virgin_Islands:': '🇻🇬',\n",
              " ':Brunei:': '🇧🇳',\n",
              " ':Bulgaria:': '🇧🇬',\n",
              " ':Burkina_Faso:': '🇧🇫',\n",
              " ':Burundi:': '🇧🇮',\n",
              " ':CL_button:': '🆑',\n",
              " ':COOL_button:': '🆒',\n",
              " ':Cambodia:': '🇰🇭',\n",
              " ':Cameroon:': '🇨🇲',\n",
              " ':Canada:': '🇨🇦',\n",
              " ':Canary_Islands:': '🇮🇨',\n",
              " ':Cancer:': '♋',\n",
              " ':Cape_Verde:': '🇨🇻',\n",
              " ':Capricorn:': '♑',\n",
              " ':Caribbean_Netherlands:': '🇧🇶',\n",
              " ':Cayman_Islands:': '🇰🇾',\n",
              " ':Central_African_Republic:': '🇨🇫',\n",
              " ':Ceuta_&_Melilla:': '🇪🇦',\n",
              " ':Chad:': '🇹🇩',\n",
              " ':Chile:': '🇨🇱',\n",
              " ':China:': '🇨🇳',\n",
              " ':Christmas_Island:': '🇨🇽',\n",
              " ':Christmas_tree:': '🎄',\n",
              " ':Clipperton_Island:': '🇨🇵',\n",
              " ':Cocos_(Keeling)_Islands:': '🇨🇨',\n",
              " ':Colombia:': '🇨🇴',\n",
              " ':Comoros:': '🇰🇲',\n",
              " ':Congo_-_Brazzaville:': '🇨🇬',\n",
              " ':Congo_-_Kinshasa:': '🇨🇩',\n",
              " ':Cook_Islands:': '🇨🇰',\n",
              " ':Costa_Rica:': '🇨🇷',\n",
              " ':Croatia:': '🇭🇷',\n",
              " ':Cuba:': '🇨🇺',\n",
              " ':Curaçao:': '🇨🇼',\n",
              " ':Cyprus:': '🇨🇾',\n",
              " ':Czechia:': '🇨🇿',\n",
              " ':Côte_d’Ivoire:': '🇨🇮',\n",
              " ':Denmark:': '🇩🇰',\n",
              " ':Diego_Garcia:': '🇩🇬',\n",
              " ':Djibouti:': '🇩🇯',\n",
              " ':Dominica:': '🇩🇲',\n",
              " ':Dominican_Republic:': '🇩🇴',\n",
              " ':END_arrow:': '🔚',\n",
              " ':Ecuador:': '🇪🇨',\n",
              " ':Egypt:': '🇪🇬',\n",
              " ':El_Salvador:': '🇸🇻',\n",
              " ':England:': '🏴\\U000e0067\\U000e0062\\U000e0065\\U000e006e\\U000e0067\\U000e007f',\n",
              " ':Equatorial_Guinea:': '🇬🇶',\n",
              " ':Eritrea:': '🇪🇷',\n",
              " ':Estonia:': '🇪🇪',\n",
              " ':Ethiopia:': '🇪🇹',\n",
              " ':European_Union:': '🇪🇺',\n",
              " ':FREE_button:': '🆓',\n",
              " ':Falkland_Islands:': '🇫🇰',\n",
              " ':Faroe_Islands:': '🇫🇴',\n",
              " ':Fiji:': '🇫🇯',\n",
              " ':Finland:': '🇫🇮',\n",
              " ':France:': '🇫🇷',\n",
              " ':French_Guiana:': '🇬🇫',\n",
              " ':French_Polynesia:': '🇵🇫',\n",
              " ':French_Southern_Territories:': '🇹🇫',\n",
              " ':Gabon:': '🇬🇦',\n",
              " ':Gambia:': '🇬🇲',\n",
              " ':Gemini:': '♊',\n",
              " ':Georgia:': '🇬🇪',\n",
              " ':Germany:': '🇩🇪',\n",
              " ':Ghana:': '🇬🇭',\n",
              " ':Gibraltar:': '🇬🇮',\n",
              " ':Greece:': '🇬🇷',\n",
              " ':Greenland:': '🇬🇱',\n",
              " ':Grenada:': '🇬🇩',\n",
              " ':Guadeloupe:': '🇬🇵',\n",
              " ':Guam:': '🇬🇺',\n",
              " ':Guatemala:': '🇬🇹',\n",
              " ':Guernsey:': '🇬🇬',\n",
              " ':Guinea:': '🇬🇳',\n",
              " ':Guinea-Bissau:': '🇬🇼',\n",
              " ':Guyana:': '🇬🇾',\n",
              " ':Haiti:': '🇭🇹',\n",
              " ':Heard_&_McDonald_Islands:': '🇭🇲',\n",
              " ':Honduras:': '🇭🇳',\n",
              " ':Hong_Kong_SAR_China:': '🇭🇰',\n",
              " ':Hungary:': '🇭🇺',\n",
              " ':ID_button:': '🆔',\n",
              " ':Iceland:': '🇮🇸',\n",
              " ':India:': '🇮🇳',\n",
              " ':Indonesia:': '🇮🇩',\n",
              " ':Iran:': '🇮🇷',\n",
              " ':Iraq:': '🇮🇶',\n",
              " ':Ireland:': '🇮🇪',\n",
              " ':Isle_of_Man:': '🇮🇲',\n",
              " ':Israel:': '🇮🇱',\n",
              " ':Italy:': '🇮🇹',\n",
              " ':Jamaica:': '🇯🇲',\n",
              " ':Japan:': '🇯🇵',\n",
              " ':Japanese_acceptable_button:': '🉑',\n",
              " ':Japanese_application_button:': '🈸',\n",
              " ':Japanese_bargain_button:': '🉐',\n",
              " ':Japanese_castle:': '🏯',\n",
              " ':Japanese_congratulations_button:': '㊗',\n",
              " ':Japanese_discount_button:': '🈹',\n",
              " ':Japanese_dolls:': '🎎',\n",
              " ':Japanese_free_of_charge_button:': '🈚',\n",
              " ':Japanese_here_button:': '🈁',\n",
              " ':Japanese_monthly_amount_button:': '🈷',\n",
              " ':Japanese_no_vacancy_button:': '🈵',\n",
              " ':Japanese_not_free_of_charge_button:': '🈶',\n",
              " ':Japanese_open_for_business_button:': '🈺',\n",
              " ':Japanese_passing_grade_button:': '🈴',\n",
              " ':Japanese_post_office:': '🏣',\n",
              " ':Japanese_prohibited_button:': '🈲',\n",
              " ':Japanese_reserved_button:': '🈯',\n",
              " ':Japanese_secret_button:': '㊙',\n",
              " ':Japanese_service_charge_button:': '🈂',\n",
              " ':Japanese_symbol_for_beginner:': '🔰',\n",
              " ':Japanese_vacancy_button:': '🈳',\n",
              " ':Jersey:': '🇯🇪',\n",
              " ':Jordan:': '🇯🇴',\n",
              " ':Kazakhstan:': '🇰🇿',\n",
              " ':Kenya:': '🇰🇪',\n",
              " ':Kiribati:': '🇰🇮',\n",
              " ':Kosovo:': '🇽🇰',\n",
              " ':Kuwait:': '🇰🇼',\n",
              " ':Kyrgyzstan:': '🇰🇬',\n",
              " ':Laos:': '🇱🇦',\n",
              " ':Latvia:': '🇱🇻',\n",
              " ':Lebanon:': '🇱🇧',\n",
              " ':Leo:': '♌',\n",
              " ':Lesotho:': '🇱🇸',\n",
              " ':Liberia:': '🇱🇷',\n",
              " ':Libra:': '♎',\n",
              " ':Libya:': '🇱🇾',\n",
              " ':Liechtenstein:': '🇱🇮',\n",
              " ':Lithuania:': '🇱🇹',\n",
              " ':Luxembourg:': '🇱🇺',\n",
              " ':Macau_SAR_China:': '🇲🇴',\n",
              " ':Macedonia:': '🇲🇰',\n",
              " ':Madagascar:': '🇲🇬',\n",
              " ':Malawi:': '🇲🇼',\n",
              " ':Malaysia:': '🇲🇾',\n",
              " ':Maldives:': '🇲🇻',\n",
              " ':Mali:': '🇲🇱',\n",
              " ':Malta:': '🇲🇹',\n",
              " ':Marshall_Islands:': '🇲🇭',\n",
              " ':Martinique:': '🇲🇶',\n",
              " ':Mauritania:': '🇲🇷',\n",
              " ':Mauritius:': '🇲🇺',\n",
              " ':Mayotte:': '🇾🇹',\n",
              " ':Mexico:': '🇲🇽',\n",
              " ':Micronesia:': '🇫🇲',\n",
              " ':Moldova:': '🇲🇩',\n",
              " ':Monaco:': '🇲🇨',\n",
              " ':Mongolia:': '🇲🇳',\n",
              " ':Montenegro:': '🇲🇪',\n",
              " ':Montserrat:': '🇲🇸',\n",
              " ':Morocco:': '🇲🇦',\n",
              " ':Mozambique:': '🇲🇿',\n",
              " ':Mrs._Claus:': '🤶',\n",
              " ':Mrs._Claus_dark_skin_tone:': '🤶🏿',\n",
              " ':Mrs._Claus_light_skin_tone:': '🤶🏻',\n",
              " ':Mrs._Claus_medium-dark_skin_tone:': '🤶🏾',\n",
              " ':Mrs._Claus_medium-light_skin_tone:': '🤶🏼',\n",
              " ':Mrs._Claus_medium_skin_tone:': '🤶🏽',\n",
              " ':Myanmar_(Burma):': '🇲🇲',\n",
              " ':NEW_button:': '🆕',\n",
              " ':NG_button:': '🆖',\n",
              " ':Namibia:': '🇳🇦',\n",
              " ':Nauru:': '🇳🇷',\n",
              " ':Nepal:': '🇳🇵',\n",
              " ':Netherlands:': '🇳🇱',\n",
              " ':New_Caledonia:': '🇳🇨',\n",
              " ':New_Zealand:': '🇳🇿',\n",
              " ':Nicaragua:': '🇳🇮',\n",
              " ':Niger:': '🇳🇪',\n",
              " ':Nigeria:': '🇳🇬',\n",
              " ':Niue:': '🇳🇺',\n",
              " ':Norfolk_Island:': '🇳🇫',\n",
              " ':North_Korea:': '🇰🇵',\n",
              " ':Northern_Mariana_Islands:': '🇲🇵',\n",
              " ':Norway:': '🇳🇴',\n",
              " ':OK_button:': '🆗',\n",
              " ':OK_hand:': '👌',\n",
              " ':OK_hand_dark_skin_tone:': '👌🏿',\n",
              " ':OK_hand_light_skin_tone:': '👌🏻',\n",
              " ':OK_hand_medium-dark_skin_tone:': '👌🏾',\n",
              " ':OK_hand_medium-light_skin_tone:': '👌🏼',\n",
              " ':OK_hand_medium_skin_tone:': '👌🏽',\n",
              " ':ON!_arrow:': '🔛',\n",
              " ':O_button_(blood_type):': '🅾',\n",
              " ':Oman:': '🇴🇲',\n",
              " ':Ophiuchus:': '⛎',\n",
              " ':P_button:': '🅿',\n",
              " ':Pakistan:': '🇵🇰',\n",
              " ':Palau:': '🇵🇼',\n",
              " ':Palestinian_Territories:': '🇵🇸',\n",
              " ':Panama:': '🇵🇦',\n",
              " ':Papua_New_Guinea:': '🇵🇬',\n",
              " ':Paraguay:': '🇵🇾',\n",
              " ':Peru:': '🇵🇪',\n",
              " ':Philippines:': '🇵🇭',\n",
              " ':Pisces:': '♓',\n",
              " ':Pitcairn_Islands:': '🇵🇳',\n",
              " ':Poland:': '🇵🇱',\n",
              " ':Portugal:': '🇵🇹',\n",
              " ':Puerto_Rico:': '🇵🇷',\n",
              " ':Qatar:': '🇶🇦',\n",
              " ':Romania:': '🇷🇴',\n",
              " ':Russia:': '🇷🇺',\n",
              " ':Rwanda:': '🇷🇼',\n",
              " ':Réunion:': '🇷🇪',\n",
              " ':SOON_arrow:': '🔜',\n",
              " ':SOS_button:': '🆘',\n",
              " ':Sagittarius:': '♐',\n",
              " ':Samoa:': '🇼🇸',\n",
              " ':San_Marino:': '🇸🇲',\n",
              " ':Santa_Claus:': '🎅',\n",
              " ':Santa_Claus_dark_skin_tone:': '🎅🏿',\n",
              " ':Santa_Claus_light_skin_tone:': '🎅🏻',\n",
              " ':Santa_Claus_medium-dark_skin_tone:': '🎅🏾',\n",
              " ':Santa_Claus_medium-light_skin_tone:': '🎅🏼',\n",
              " ':Santa_Claus_medium_skin_tone:': '🎅🏽',\n",
              " ':Saudi_Arabia:': '🇸🇦',\n",
              " ':Scorpio:': '♏',\n",
              " ':Scotland:': '🏴\\U000e0067\\U000e0062\\U000e0073\\U000e0063\\U000e0074\\U000e007f',\n",
              " ':Senegal:': '🇸🇳',\n",
              " ':Serbia:': '🇷🇸',\n",
              " ':Seychelles:': '🇸🇨',\n",
              " ':Sierra_Leone:': '🇸🇱',\n",
              " ':Singapore:': '🇸🇬',\n",
              " ':Sint_Maarten:': '🇸🇽',\n",
              " ':Slovakia:': '🇸🇰',\n",
              " ':Slovenia:': '🇸🇮',\n",
              " ':Solomon_Islands:': '🇸🇧',\n",
              " ':Somalia:': '🇸🇴',\n",
              " ':South_Africa:': '🇿🇦',\n",
              " ':South_Georgia_&_South_Sandwich_Islands:': '🇬🇸',\n",
              " ':South_Korea:': '🇰🇷',\n",
              " ':South_Sudan:': '🇸🇸',\n",
              " ':Spain:': '🇪🇸',\n",
              " ':Sri_Lanka:': '🇱🇰',\n",
              " ':St._Barthélemy:': '🇧🇱',\n",
              " ':St._Helena:': '🇸🇭',\n",
              " ':St._Kitts_&_Nevis:': '🇰🇳',\n",
              " ':St._Lucia:': '🇱🇨',\n",
              " ':St._Martin:': '🇲🇫',\n",
              " ':St._Pierre_&_Miquelon:': '🇵🇲',\n",
              " ':St._Vincent_&_Grenadines:': '🇻🇨',\n",
              " ':Statue_of_Liberty:': '🗽',\n",
              " ':Sudan:': '🇸🇩',\n",
              " ':Suriname:': '🇸🇷',\n",
              " ':Svalbard_&_Jan_Mayen:': '🇸🇯',\n",
              " ':Swaziland:': '🇸🇿',\n",
              " ':Sweden:': '🇸🇪',\n",
              " ':Switzerland:': '🇨🇭',\n",
              " ':Syria:': '🇸🇾',\n",
              " ':São_Tomé_&_Príncipe:': '🇸🇹',\n",
              " ':T-Rex:': '🦖',\n",
              " ':TOP_arrow:': '🔝',\n",
              " ':Taiwan:': '🇹🇼',\n",
              " ':Tajikistan:': '🇹🇯',\n",
              " ':Tanzania:': '🇹🇿',\n",
              " ':Taurus:': '♉',\n",
              " ':Thailand:': '🇹🇭',\n",
              " ':Timor-Leste:': '🇹🇱',\n",
              " ':Togo:': '🇹🇬',\n",
              " ':Tokelau:': '🇹🇰',\n",
              " ':Tokyo_tower:': '🗼',\n",
              " ':Tonga:': '🇹🇴',\n",
              " ':Trinidad_&_Tobago:': '🇹🇹',\n",
              " ':Tristan_da_Cunha:': '🇹🇦',\n",
              " ':Tunisia:': '🇹🇳',\n",
              " ':Turkey:': '🇹🇷',\n",
              " ':Turkmenistan:': '🇹🇲',\n",
              " ':Turks_&_Caicos_Islands:': '🇹🇨',\n",
              " ':Tuvalu:': '🇹🇻',\n",
              " ':U.S._Outlying_Islands:': '🇺🇲',\n",
              " ':U.S._Virgin_Islands:': '🇻🇮',\n",
              " ':UP!_button:': '🆙',\n",
              " ':Uganda:': '🇺🇬',\n",
              " ':Ukraine:': '🇺🇦',\n",
              " ':United_Arab_Emirates:': '🇦🇪',\n",
              " ':United_Kingdom:': '🇬🇧',\n",
              " ':United_Nations:': '🇺🇳',\n",
              " ':United_States:': '🇺🇸',\n",
              " ':Uruguay:': '🇺🇾',\n",
              " ':Uzbekistan:': '🇺🇿',\n",
              " ':VS_button:': '🆚',\n",
              " ':Vanuatu:': '🇻🇺',\n",
              " ':Vatican_City:': '🇻🇦',\n",
              " ':Venezuela:': '🇻🇪',\n",
              " ':Vietnam:': '🇻🇳',\n",
              " ':Virgo:': '♍',\n",
              " ':Wales:': '🏴\\U000e0067\\U000e0062\\U000e0077\\U000e006c\\U000e0073\\U000e007f',\n",
              " ':Wallis_&_Futuna:': '🇼🇫',\n",
              " ':Western_Sahara:': '🇪🇭',\n",
              " ':Yemen:': '🇾🇪',\n",
              " ':Zambia:': '🇿🇲',\n",
              " ':Zimbabwe:': '🇿🇼',\n",
              " ':abacus:': '🧮',\n",
              " ':adhesive_bandage:': '\\U0001fa79',\n",
              " ':admission_tickets:': '🎟',\n",
              " ':adult:': '🧑',\n",
              " ':adult_dark_skin_tone:': '🧑🏿',\n",
              " ':adult_light_skin_tone:': '🧑🏻',\n",
              " ':adult_medium-dark_skin_tone:': '🧑🏾',\n",
              " ':adult_medium-light_skin_tone:': '🧑🏼',\n",
              " ':adult_medium_skin_tone:': '🧑🏽',\n",
              " ':aerial_tramway:': '🚡',\n",
              " ':airplane:': '✈',\n",
              " ':airplane_arrival:': '🛬',\n",
              " ':airplane_departure:': '🛫',\n",
              " ':alarm_clock:': '⏰',\n",
              " ':alembic:': '⚗',\n",
              " ':alien:': '👽',\n",
              " ':alien_monster:': '👾',\n",
              " ':ambulance:': '🚑',\n",
              " ':american_football:': '🏈',\n",
              " ':amphora:': '🏺',\n",
              " ':anchor:': '⚓',\n",
              " ':anger_symbol:': '💢',\n",
              " ':angry_face:': '😠',\n",
              " ':angry_face_with_horns:': '👿',\n",
              " ':anguished_face:': '😧',\n",
              " ':ant:': '🐜',\n",
              " ':antenna_bars:': '📶',\n",
              " ':anxious_face_with_sweat:': '😰',\n",
              " ':articulated_lorry:': '🚛',\n",
              " ':artist_palette:': '🎨',\n",
              " ':astonished_face:': '😲',\n",
              " ':atom_symbol:': '⚛',\n",
              " ':auto_rickshaw:': '\\U0001f6fa',\n",
              " ':automobile:': '🚗',\n",
              " ':avocado:': '🥑',\n",
              " ':axe:': '\\U0001fa93',\n",
              " ':baby:': '👶',\n",
              " ':baby_angel:': '👼',\n",
              " ':baby_angel_dark_skin_tone:': '👼🏿',\n",
              " ':baby_angel_light_skin_tone:': '👼🏻',\n",
              " ':baby_angel_medium-dark_skin_tone:': '👼🏾',\n",
              " ':baby_angel_medium-light_skin_tone:': '👼🏼',\n",
              " ':baby_angel_medium_skin_tone:': '👼🏽',\n",
              " ':baby_bottle:': '🍼',\n",
              " ':baby_chick:': '🐤',\n",
              " ':baby_dark_skin_tone:': '👶🏿',\n",
              " ':baby_light_skin_tone:': '👶🏻',\n",
              " ':baby_medium-dark_skin_tone:': '👶🏾',\n",
              " ':baby_medium-light_skin_tone:': '👶🏼',\n",
              " ':baby_medium_skin_tone:': '👶🏽',\n",
              " ':baby_symbol:': '🚼',\n",
              " ':backhand_index_pointing_down:': '👇',\n",
              " ':backhand_index_pointing_down_dark_skin_tone:': '👇🏿',\n",
              " ':backhand_index_pointing_down_light_skin_tone:': '👇🏻',\n",
              " ':backhand_index_pointing_down_medium-dark_skin_tone:': '👇🏾',\n",
              " ':backhand_index_pointing_down_medium-light_skin_tone:': '👇🏼',\n",
              " ':backhand_index_pointing_down_medium_skin_tone:': '👇🏽',\n",
              " ':backhand_index_pointing_left:': '👈',\n",
              " ':backhand_index_pointing_left_dark_skin_tone:': '👈🏿',\n",
              " ':backhand_index_pointing_left_light_skin_tone:': '👈🏻',\n",
              " ':backhand_index_pointing_left_medium-dark_skin_tone:': '👈🏾',\n",
              " ':backhand_index_pointing_left_medium-light_skin_tone:': '👈🏼',\n",
              " ':backhand_index_pointing_left_medium_skin_tone:': '👈🏽',\n",
              " ':backhand_index_pointing_right:': '👉',\n",
              " ':backhand_index_pointing_right_dark_skin_tone:': '👉🏿',\n",
              " ':backhand_index_pointing_right_light_skin_tone:': '👉🏻',\n",
              " ':backhand_index_pointing_right_medium-dark_skin_tone:': '👉🏾',\n",
              " ':backhand_index_pointing_right_medium-light_skin_tone:': '👉🏼',\n",
              " ':backhand_index_pointing_right_medium_skin_tone:': '👉🏽',\n",
              " ':backhand_index_pointing_up:': '👆',\n",
              " ':backhand_index_pointing_up_dark_skin_tone:': '👆🏿',\n",
              " ':backhand_index_pointing_up_light_skin_tone:': '👆🏻',\n",
              " ':backhand_index_pointing_up_medium-dark_skin_tone:': '👆🏾',\n",
              " ':backhand_index_pointing_up_medium-light_skin_tone:': '👆🏼',\n",
              " ':backhand_index_pointing_up_medium_skin_tone:': '👆🏽',\n",
              " ':bacon:': '🥓',\n",
              " ':badger:': '🦡',\n",
              " ':badminton:': '🏸',\n",
              " ':bagel:': '🥯',\n",
              " ':baggage_claim:': '🛄',\n",
              " ':baguette_bread:': '🥖',\n",
              " ':balance_scale:': '⚖',\n",
              " ':bald:': '🦲',\n",
              " ':bald_man:': '👨\\u200d🦲',\n",
              " ':bald_woman:': '👩\\u200d🦲',\n",
              " ':ballet_shoes:': '\\U0001fa70',\n",
              " ':balloon:': '🎈',\n",
              " ':ballot_box_with_ballot:': '🗳',\n",
              " ':ballot_box_with_check:': '☑',\n",
              " ':banana:': '🍌',\n",
              " ':banjo:': '\\U0001fa95',\n",
              " ':bank:': '🏦',\n",
              " ':bar_chart:': '📊',\n",
              " ':barber_pole:': '💈',\n",
              " ':baseball:': '⚾',\n",
              " ':basket:': '🧺',\n",
              " ':basketball:': '🏀',\n",
              " ':bat:': '🦇',\n",
              " ':bathtub:': '🛁',\n",
              " ':battery:': '🔋',\n",
              " ':beach_with_umbrella:': '🏖',\n",
              " ':beaming_face_with_smiling_eyes:': '😁',\n",
              " ':bear_face:': '🐻',\n",
              " ':bearded_person:': '🧔',\n",
              " ':bearded_person_dark_skin_tone:': '🧔🏿',\n",
              " ':bearded_person_light_skin_tone:': '🧔🏻',\n",
              " ':bearded_person_medium-dark_skin_tone:': '🧔🏾',\n",
              " ':bearded_person_medium-light_skin_tone:': '🧔🏼',\n",
              " ':bearded_person_medium_skin_tone:': '🧔🏽',\n",
              " ':beating_heart:': '💓',\n",
              " ':bed:': '🛏',\n",
              " ':beer_mug:': '🍺',\n",
              " ':bell:': '🔔',\n",
              " ':bell_with_slash:': '🔕',\n",
              " ':bellhop_bell:': '🛎',\n",
              " ':bento_box:': '🍱',\n",
              " ':beverage_box:': '\\U0001f9c3',\n",
              " ':bicycle:': '🚲',\n",
              " ':bikini:': '👙',\n",
              " ':billed_cap:': '🧢',\n",
              " ':biohazard:': '☣',\n",
              " ':bird:': '🐦',\n",
              " ':birthday_cake:': '🎂',\n",
              " ':black_circle:': '⚫',\n",
              " ':black_flag:': '🏴',\n",
              " ':black_heart:': '🖤',\n",
              " ':black_large_square:': '⬛',\n",
              " ':black_medium-small_square:': '◾',\n",
              " ':black_medium_square:': '◼',\n",
              " ':black_nib:': '✒',\n",
              " ':black_small_square:': '▪',\n",
              " ':black_square_button:': '🔲',\n",
              " ':blond-haired_man:': '👱\\u200d♂️',\n",
              " ':blond-haired_man_dark_skin_tone:': '👱🏿\\u200d♂️',\n",
              " ':blond-haired_man_light_skin_tone:': '👱🏻\\u200d♂️',\n",
              " ':blond-haired_man_medium-dark_skin_tone:': '👱🏾\\u200d♂️',\n",
              " ':blond-haired_man_medium-light_skin_tone:': '👱🏼\\u200d♂️',\n",
              " ':blond-haired_man_medium_skin_tone:': '👱🏽\\u200d♂️',\n",
              " ':blond-haired_person:': '👱',\n",
              " ':blond-haired_person_dark_skin_tone:': '👱🏿',\n",
              " ':blond-haired_person_light_skin_tone:': '👱🏻',\n",
              " ':blond-haired_person_medium-dark_skin_tone:': '👱🏾',\n",
              " ':blond-haired_person_medium-light_skin_tone:': '👱🏼',\n",
              " ':blond-haired_person_medium_skin_tone:': '👱🏽',\n",
              " ':blond-haired_woman:': '👱\\u200d♀️',\n",
              " ':blond-haired_woman_dark_skin_tone:': '👱🏿\\u200d♀️',\n",
              " ':blond-haired_woman_light_skin_tone:': '👱🏻\\u200d♀️',\n",
              " ':blond-haired_woman_medium-dark_skin_tone:': '👱🏾\\u200d♀️',\n",
              " ':blond-haired_woman_medium-light_skin_tone:': '👱🏼\\u200d♀️',\n",
              " ':blond-haired_woman_medium_skin_tone:': '👱🏽\\u200d♀️',\n",
              " ':blossom:': '🌼',\n",
              " ':blowfish:': '🐡',\n",
              " ':blue_book:': '📘',\n",
              " ':blue_circle:': '🔵',\n",
              " ':blue_heart:': '💙',\n",
              " ':blue_square:': '\\U0001f7e6',\n",
              " ':boar:': '🐗',\n",
              " ':bomb:': '💣',\n",
              " ':bone:': '🦴',\n",
              " ':bookmark:': '🔖',\n",
              " ':bookmark_tabs:': '📑',\n",
              " ':books:': '📚',\n",
              " ':bottle_with_popping_cork:': '🍾',\n",
              " ':bouquet:': '💐',\n",
              " ':bow_and_arrow:': '🏹',\n",
              " ':bowl_with_spoon:': '🥣',\n",
              " ':bowling:': '🎳',\n",
              " ':boxing_glove:': '🥊',\n",
              " ':boy:': '👦',\n",
              " ':boy_dark_skin_tone:': '👦🏿',\n",
              " ':boy_light_skin_tone:': '👦🏻',\n",
              " ':boy_medium-dark_skin_tone:': '👦🏾',\n",
              " ':boy_medium-light_skin_tone:': '👦🏼',\n",
              " ':boy_medium_skin_tone:': '👦🏽',\n",
              " ':brain:': '🧠',\n",
              " ':bread:': '🍞',\n",
              " ':breast-feeding:': '🤱',\n",
              " ':breast-feeding_dark_skin_tone:': '🤱🏿',\n",
              " ':breast-feeding_light_skin_tone:': '🤱🏻',\n",
              " ':breast-feeding_medium-dark_skin_tone:': '🤱🏾',\n",
              " ':breast-feeding_medium-light_skin_tone:': '🤱🏼',\n",
              " ':breast-feeding_medium_skin_tone:': '🤱🏽',\n",
              " ':brick:': '🧱',\n",
              " ':bride_with_veil:': '👰',\n",
              " ':bride_with_veil_dark_skin_tone:': '👰🏿',\n",
              " ':bride_with_veil_light_skin_tone:': '👰🏻',\n",
              " ':bride_with_veil_medium-dark_skin_tone:': '👰🏾',\n",
              " ':bride_with_veil_medium-light_skin_tone:': '👰🏼',\n",
              " ':bride_with_veil_medium_skin_tone:': '👰🏽',\n",
              " ':bridge_at_night:': '🌉',\n",
              " ':briefcase:': '💼',\n",
              " ':briefs:': '\\U0001fa72',\n",
              " ':bright_button:': '🔆',\n",
              " ':broccoli:': '🥦',\n",
              " ':broken_heart:': '💔',\n",
              " ':broom:': '🧹',\n",
              " ':brown_circle:': '\\U0001f7e4',\n",
              " ':brown_heart:': '\\U0001f90e',\n",
              " ':brown_square:': '\\U0001f7eb',\n",
              " ':bug:': '🐛',\n",
              " ':building_construction:': '🏗',\n",
              " ':bullet_train:': '🚅',\n",
              " ':burrito:': '🌯',\n",
              " ':bus:': '🚌',\n",
              " ':bus_stop:': '🚏',\n",
              " ':bust_in_silhouette:': '👤',\n",
              " ':busts_in_silhouette:': '👥',\n",
              " ':butter:': '\\U0001f9c8',\n",
              " ':butterfly:': '🦋',\n",
              " ':cactus:': '🌵',\n",
              " ':calendar:': '📅',\n",
              " ':call_me_hand:': '🤙',\n",
              " ':call_me_hand_dark_skin_tone:': '🤙🏿',\n",
              " ':call_me_hand_light_skin_tone:': '🤙🏻',\n",
              " ':call_me_hand_medium-dark_skin_tone:': '🤙🏾',\n",
              " ':call_me_hand_medium-light_skin_tone:': '🤙🏼',\n",
              " ':call_me_hand_medium_skin_tone:': '🤙🏽',\n",
              " ':camel:': '🐪',\n",
              " ':camera:': '📷',\n",
              " ':camera_with_flash:': '📸',\n",
              " ':camping:': '🏕',\n",
              " ':candle:': '🕯',\n",
              " ':candy:': '🍬',\n",
              " ':canned_food:': '🥫',\n",
              " ':canoe:': '🛶',\n",
              " ':card_file_box:': '🗃',\n",
              " ':card_index:': '📇',\n",
              " ':card_index_dividers:': '🗂',\n",
              " ':carousel_horse:': '🎠',\n",
              " ':carp_streamer:': '🎏',\n",
              " ':carrot:': '🥕',\n",
              " ':castle:': '🏰',\n",
              " ':cat:': '🐈',\n",
              " ':cat_face:': '🐱',\n",
              " ':cat_face_with_tears_of_joy:': '😹',\n",
              " ':cat_face_with_wry_smile:': '😼',\n",
              " ':chains:': '⛓',\n",
              " ':chair:': '\\U0001fa91',\n",
              " ':chart_decreasing:': '📉',\n",
              " ':chart_increasing:': '📈',\n",
              " ':chart_increasing_with_yen:': '💹',\n",
              " ':cheese_wedge:': '🧀',\n",
              " ':chequered_flag:': '🏁',\n",
              " ':cherries:': '🍒',\n",
              " ':cherry_blossom:': '🌸',\n",
              " ':chess_pawn:': '♟',\n",
              " ':chestnut:': '🌰',\n",
              " ':chicken:': '🐔',\n",
              " ':child:': '🧒',\n",
              " ':child_dark_skin_tone:': '🧒🏿',\n",
              " ':child_light_skin_tone:': '🧒🏻',\n",
              " ':child_medium-dark_skin_tone:': '🧒🏾',\n",
              " ':child_medium-light_skin_tone:': '🧒🏼',\n",
              " ':child_medium_skin_tone:': '🧒🏽',\n",
              " ':children_crossing:': '🚸',\n",
              " ':chipmunk:': '🐿',\n",
              " ':chocolate_bar:': '🍫',\n",
              " ':chopsticks:': '🥢',\n",
              " ':church:': '⛪',\n",
              " ':cigarette:': '🚬',\n",
              " ':cinema:': '🎦',\n",
              " ':circled_M:': 'Ⓜ',\n",
              " ':circus_tent:': '🎪',\n",
              " ':cityscape:': '🏙',\n",
              " ':cityscape_at_dusk:': '🌆',\n",
              " ':clamp:': '🗜',\n",
              " ':clapper_board:': '🎬',\n",
              " ':clapping_hands:': '👏',\n",
              " ':clapping_hands_dark_skin_tone:': '👏🏿',\n",
              " ':clapping_hands_light_skin_tone:': '👏🏻',\n",
              " ':clapping_hands_medium-dark_skin_tone:': '👏🏾',\n",
              " ':clapping_hands_medium-light_skin_tone:': '👏🏼',\n",
              " ':clapping_hands_medium_skin_tone:': '👏🏽',\n",
              " ':classical_building:': '🏛',\n",
              " ':clinking_beer_mugs:': '🍻',\n",
              " ':clinking_glasses:': '🥂',\n",
              " ':clipboard:': '📋',\n",
              " ':clockwise_vertical_arrows:': '🔃',\n",
              " ':closed_book:': '📕',\n",
              " ':closed_mailbox_with_lowered_flag:': '📪',\n",
              " ':closed_mailbox_with_raised_flag:': '📫',\n",
              " ':closed_umbrella:': '🌂',\n",
              " ':cloud:': '☁',\n",
              " ':cloud_with_lightning:': '🌩',\n",
              " ':cloud_with_lightning_and_rain:': '⛈',\n",
              " ':cloud_with_rain:': '🌧',\n",
              " ':cloud_with_snow:': '🌨',\n",
              " ':clown_face:': '🤡',\n",
              " ':club_suit:': '♣',\n",
              " ':clutch_bag:': '👝',\n",
              " ':coat:': '🧥',\n",
              " ':cocktail_glass:': '🍸',\n",
              " ':coconut:': '🥥',\n",
              " ':coffin:': '⚰',\n",
              " ':cold_face:': '🥶',\n",
              " ':collision:': '💥',\n",
              " ':comet:': '☄',\n",
              " ':compass:': '🧭',\n",
              " ':computer_disk:': '💽',\n",
              " ':computer_mouse:': '🖱',\n",
              " ':confetti_ball:': '🎊',\n",
              " ':confounded_face:': '😖',\n",
              " ':confused_face:': '😕',\n",
              " ':construction:': '🚧',\n",
              " ':construction_worker:': '👷',\n",
              " ':construction_worker_dark_skin_tone:': '👷🏿',\n",
              " ':construction_worker_light_skin_tone:': '👷🏻',\n",
              " ':construction_worker_medium-dark_skin_tone:': '👷🏾',\n",
              " ':construction_worker_medium-light_skin_tone:': '👷🏼',\n",
              " ':construction_worker_medium_skin_tone:': '👷🏽',\n",
              " ':control_knobs:': '🎛',\n",
              " ':convenience_store:': '🏪',\n",
              " ':cooked_rice:': '🍚',\n",
              " ':cookie:': '🍪',\n",
              " ':cooking:': '🍳',\n",
              " ':copyright:': '©',\n",
              " ':couch_and_lamp:': '🛋',\n",
              " ':counterclockwise_arrows_button:': '🔄',\n",
              " ':couple_with_heart:': '💑',\n",
              " ':couple_with_heart_man_man:': '👨\\u200d❤️\\u200d👨',\n",
              " ':couple_with_heart_woman_man:': '👩\\u200d❤️\\u200d👨',\n",
              " ':couple_with_heart_woman_woman:': '👩\\u200d❤️\\u200d👩',\n",
              " ':cow:': '🐄',\n",
              " ':cow_face:': '🐮',\n",
              " ':cowboy_hat_face:': '🤠',\n",
              " ':crab:': '🦀',\n",
              " ':crayon:': '🖍',\n",
              " ':credit_card:': '💳',\n",
              " ':crescent_moon:': '🌙',\n",
              " ':cricket:': '🦗',\n",
              " ':cricket_game:': '🏏',\n",
              " ':crocodile:': '🐊',\n",
              " ':croissant:': '🥐',\n",
              " ':cross_mark:': '❌',\n",
              " ':cross_mark_button:': '❎',\n",
              " ':crossed_fingers:': '🤞',\n",
              " ':crossed_fingers_dark_skin_tone:': '🤞🏿',\n",
              " ':crossed_fingers_light_skin_tone:': '🤞🏻',\n",
              " ':crossed_fingers_medium-dark_skin_tone:': '🤞🏾',\n",
              " ':crossed_fingers_medium-light_skin_tone:': '🤞🏼',\n",
              " ':crossed_fingers_medium_skin_tone:': '🤞🏽',\n",
              " ':crossed_flags:': '🎌',\n",
              " ':crossed_swords:': '⚔',\n",
              " ':crown:': '👑',\n",
              " ':crying_cat_face:': '😿',\n",
              " ':crying_face:': '😢',\n",
              " ':crystal_ball:': '🔮',\n",
              " ':cucumber:': '🥒',\n",
              " ':cupcake:': '🧁',\n",
              " ':cup_with_straw:': '🥤',\n",
              " ':curling_stone:': '🥌',\n",
              " ':curly_hair:': '🦱',\n",
              " ':curly-haired_man:': '👨\\u200d🦱',\n",
              " ':curly-haired_woman:': '👩\\u200d🦱',\n",
              " ':curly_loop:': '➰',\n",
              " ':currency_exchange:': '💱',\n",
              " ':curry_rice:': '🍛',\n",
              " ':custard:': '🍮',\n",
              " ':customs:': '🛃',\n",
              " ':cut_of_meat:': '🥩',\n",
              " ':cyclone:': '🌀',\n",
              " ':dagger:': '🗡',\n",
              " ':dango:': '🍡',\n",
              " ':dashing_away:': '💨',\n",
              " ':deaf_person:': '\\U0001f9cf',\n",
              " ':deciduous_tree:': '🌳',\n",
              " ':deer:': '🦌',\n",
              " ':delivery_truck:': '🚚',\n",
              " ':department_store:': '🏬',\n",
              " ':derelict_house:': '🏚',\n",
              " ':desert:': '🏜',\n",
              " ':desert_island:': '🏝',\n",
              " ':desktop_computer:': '🖥',\n",
              " ':detective:': '🕵',\n",
              " ':detective_dark_skin_tone:': '🕵🏿',\n",
              " ':detective_light_skin_tone:': '🕵🏻',\n",
              " ':detective_medium-dark_skin_tone:': '🕵🏾',\n",
              " ':detective_medium-light_skin_tone:': '🕵🏼',\n",
              " ':detective_medium_skin_tone:': '🕵🏽',\n",
              " ':diamond_suit:': '♦',\n",
              " ':diamond_with_a_dot:': '💠',\n",
              " ':dim_button:': '🔅',\n",
              " ':direct_hit:': '🎯',\n",
              " ':disappointed_face:': '😞',\n",
              " ':diving_mask:': '\\U0001f93f',\n",
              " ':diya_lamp:': '\\U0001fa94',\n",
              " ':dizzy:': '💫',\n",
              " ':dizzy_face:': '😵',\n",
              " ':dna:': '🧬',\n",
              " ':dog:': '🐕',\n",
              " ':dog_face:': '🐶',\n",
              " ':dollar_banknote:': '💵',\n",
              " ':dolphin:': '🐬',\n",
              " ':door:': '🚪',\n",
              " ':dotted_six-pointed_star:': '🔯',\n",
              " ':double_curly_loop:': '➿',\n",
              " ':double_exclamation_mark:': '‼',\n",
              " ':doughnut:': '🍩',\n",
              " ':dove:': '🕊',\n",
              " ':down-left_arrow:': '↙',\n",
              " ':down-right_arrow:': '↘',\n",
              " ':down_arrow:': '⬇',\n",
              " ':downcast_face_with_sweat:': '😓',\n",
              " ':downwards_button:': '🔽',\n",
              " ':dragon:': '🐉',\n",
              " ':dragon_face:': '🐲',\n",
              " ':dress:': '👗',\n",
              " ':drooling_face:': '🤤',\n",
              " ':drop_of_blood:': '\\U0001fa78',\n",
              " ':droplet:': '💧',\n",
              " ':drum:': '🥁',\n",
              " ':duck:': '🦆',\n",
              " ':dumpling:': '🥟',\n",
              " ':dvd:': '📀',\n",
              " ':e-mail:': '📧',\n",
              " ':eagle:': '🦅',\n",
              " ':ear:': '👂',\n",
              " ':ear_dark_skin_tone:': '👂🏿',\n",
              " ':ear_light_skin_tone:': '👂🏻',\n",
              " ':ear_medium-dark_skin_tone:': '👂🏾',\n",
              " ':ear_medium-light_skin_tone:': '👂🏼',\n",
              " ':ear_medium_skin_tone:': '👂🏽',\n",
              " ':ear_of_corn:': '🌽',\n",
              " ':ear_with_hearing_aid:': '\\U0001f9bb',\n",
              " ':egg:': '🥚',\n",
              " ':eggplant:': '🍆',\n",
              " ':eight-pointed_star:': '✴',\n",
              " ':eight-spoked_asterisk:': '✳',\n",
              " ':eight-thirty:': '🕣',\n",
              " ':eight_o’clock:': '🕗',\n",
              " ':eject_button:': '⏏',\n",
              " ':electric_plug:': '🔌',\n",
              " ':elephant:': '🐘',\n",
              " ':eleven-thirty:': '🕦',\n",
              " ':eleven_o’clock:': '🕚',\n",
              " ':elf:': '🧝',\n",
              " ':elf_dark_skin_tone:': '🧝🏿',\n",
              " ':elf_light_skin_tone:': '🧝🏻',\n",
              " ':elf_medium-dark_skin_tone:': '🧝🏾',\n",
              " ':elf_medium-light_skin_tone:': '🧝🏼',\n",
              " ':elf_medium_skin_tone:': '🧝🏽',\n",
              " ':envelope:': '✉',\n",
              " ':envelope_with_arrow:': '📩',\n",
              " ':euro_banknote:': '💶',\n",
              " ':evergreen_tree:': '🌲',\n",
              " ':ewe:': '🐑',\n",
              " ':exclamation_mark:': '❗',\n",
              " ':exclamation_question_mark:': '⁉',\n",
              " ':exploding_head:': '🤯',\n",
              " ':expressionless_face:': '😑',\n",
              " ':eye:': '👁',\n",
              " ':eye_in_speech_bubble:': '👁️\\u200d🗨️',\n",
              " ':eyes:': '👀',\n",
              " ':face_blowing_a_kiss:': '😘',\n",
              " ':face_savoring_food:': '😋',\n",
              " ':face_screaming_in_fear:': '😱',\n",
              " ':face_vomiting:': '🤮',\n",
              " ':face_with_hand_over_mouth:': '🤭',\n",
              " ':face_with_head-bandage:': '🤕',\n",
              " ':face_with_medical_mask:': '😷',\n",
              " ':face_with_monocle:': '🧐',\n",
              " ':face_with_open_mouth:': '😮',\n",
              " ':face_with_raised_eyebrow:': '🤨',\n",
              " ':face_with_rolling_eyes:': '🙄',\n",
              " ':face_with_steam_from_nose:': '😤',\n",
              " ':face_with_symbols_on_mouth:': '🤬',\n",
              " ':face_with_tears_of_joy:': '😂',\n",
              " ':face_with_thermometer:': '🤒',\n",
              " ':face_with_tongue:': '😛',\n",
              " ':face_without_mouth:': '😶',\n",
              " ':factory:': '🏭',\n",
              " ':fairy:': '🧚',\n",
              " ':fairy_dark_skin_tone:': '🧚🏿',\n",
              " ':fairy_light_skin_tone:': '🧚🏻',\n",
              " ':fairy_medium-dark_skin_tone:': '🧚🏾',\n",
              " ':fairy_medium-light_skin_tone:': '🧚🏼',\n",
              " ':fairy_medium_skin_tone:': '🧚🏽',\n",
              " ':falafel:': '\\U0001f9c6',\n",
              " ':fallen_leaf:': '🍂',\n",
              " ':family:': '👪',\n",
              " ':family_man_boy:': '👨\\u200d👦',\n",
              " ':family_man_boy_boy:': '👨\\u200d👦\\u200d👦',\n",
              " ':family_man_girl:': '👨\\u200d👧',\n",
              " ':family_man_girl_boy:': '👨\\u200d👧\\u200d👦',\n",
              " ':family_man_girl_girl:': '👨\\u200d👧\\u200d👧',\n",
              " ':family_man_man_boy:': '👨\\u200d👨\\u200d👦',\n",
              " ':family_man_man_boy_boy:': '👨\\u200d👨\\u200d👦\\u200d👦',\n",
              " ':family_man_man_girl:': '👨\\u200d👨\\u200d👧',\n",
              " ':family_man_man_girl_boy:': '👨\\u200d👨\\u200d👧\\u200d👦',\n",
              " ':family_man_man_girl_girl:': '👨\\u200d👨\\u200d👧\\u200d👧',\n",
              " ':family_man_woman_boy:': '👨\\u200d👩\\u200d👦',\n",
              " ':family_man_woman_boy_boy:': '👨\\u200d👩\\u200d👦\\u200d👦',\n",
              " ':family_man_woman_girl:': '👨\\u200d👩\\u200d👧',\n",
              " ':family_man_woman_girl_boy:': '👨\\u200d👩\\u200d👧\\u200d👦',\n",
              " ':family_man_woman_girl_girl:': '👨\\u200d👩\\u200d👧\\u200d👧',\n",
              " ':family_woman_boy:': '👩\\u200d👦',\n",
              " ':family_woman_boy_boy:': '👩\\u200d👦\\u200d👦',\n",
              " ':family_woman_girl:': '👩\\u200d👧',\n",
              " ':family_woman_girl_boy:': '👩\\u200d👧\\u200d👦',\n",
              " ':family_woman_girl_girl:': '👩\\u200d👧\\u200d👧',\n",
              " ':family_woman_woman_boy:': '👩\\u200d👩\\u200d👦',\n",
              " ':family_woman_woman_boy_boy:': '👩\\u200d👩\\u200d👦\\u200d👦',\n",
              " ':family_woman_woman_girl:': '👩\\u200d👩\\u200d👧',\n",
              " ':family_woman_woman_girl_boy:': '👩\\u200d👩\\u200d👧\\u200d👦',\n",
              " ':family_woman_woman_girl_girl:': '👩\\u200d👩\\u200d👧\\u200d👧',\n",
              " ':fast-forward_button:': '⏩',\n",
              " ':fast_down_button:': '⏬',\n",
              " ':fast_reverse_button:': '⏪',\n",
              " ':fast_up_button:': '⏫',\n",
              " ':fax_machine:': '📠',\n",
              " ':fearful_face:': '😨',\n",
              " ':female_sign:': '♀',\n",
              " ':ferris_wheel:': '🎡',\n",
              " ':ferry:': '⛴',\n",
              " ':field_hockey:': '🏑',\n",
              " ':file_cabinet:': '🗄',\n",
              " ':file_folder:': '📁',\n",
              " ':film_frames:': '🎞',\n",
              " ':film_projector:': '📽',\n",
              " ':fire:': '🔥',\n",
              " ':fire_extinguisher:': '🧯',\n",
              " ':firecracker:': '🧨',\n",
              " ':fire_engine:': '🚒',\n",
              " ':fireworks:': '🎆',\n",
              " ':first_quarter_moon:': '🌓',\n",
              " ':first_quarter_moon_face:': '🌛',\n",
              " ':fish:': '🐟',\n",
              " ':fish_cake_with_swirl:': '🍥',\n",
              " ':fishing_pole:': '🎣',\n",
              " ':five-thirty:': '🕠',\n",
              " ':five_o’clock:': '🕔',\n",
              " ':flag_in_hole:': '⛳',\n",
              " ':flamingo:': '\\U0001f9a9',\n",
              " ':flashlight:': '🔦',\n",
              " ':flat_shoe:': '🥿',\n",
              " ':fleur-de-lis:': '⚜',\n",
              " ':flexed_biceps:': '💪',\n",
              " ':flexed_biceps_dark_skin_tone:': '💪🏿',\n",
              " ':flexed_biceps_light_skin_tone:': '💪🏻',\n",
              " ':flexed_biceps_medium-dark_skin_tone:': '💪🏾',\n",
              " ':flexed_biceps_medium-light_skin_tone:': '💪🏼',\n",
              " ':flexed_biceps_medium_skin_tone:': '💪🏽',\n",
              " ':floppy_disk:': '💾',\n",
              " ':flower_playing_cards:': '🎴',\n",
              " ':flushed_face:': '😳',\n",
              " ':flying_disc:': '🥏',\n",
              " ':flying_saucer:': '🛸',\n",
              " ':fog:': '🌫',\n",
              " ':foggy:': '🌁',\n",
              " ':folded_hands:': '🙏',\n",
              " ':folded_hands_dark_skin_tone:': '🙏🏿',\n",
              " ':folded_hands_light_skin_tone:': '🙏🏻',\n",
              " ':folded_hands_medium-dark_skin_tone:': '🙏🏾',\n",
              " ':folded_hands_medium-light_skin_tone:': '🙏🏼',\n",
              " ':folded_hands_medium_skin_tone:': '🙏🏽',\n",
              " ':foot:': '🦶',\n",
              " ':footprints:': '👣',\n",
              " ':fork_and_knife:': '🍴',\n",
              " ':fork_and_knife_with_plate:': '🍽',\n",
              " ':fortune_cookie:': '🥠',\n",
              " ':fountain:': '⛲',\n",
              " ':fountain_pen:': '🖋',\n",
              " ':four-thirty:': '🕟',\n",
              " ':four_leaf_clover:': '🍀',\n",
              " ':four_o’clock:': '🕓',\n",
              " ':fox_face:': '🦊',\n",
              " ':framed_picture:': '🖼',\n",
              " ':french_fries:': '🍟',\n",
              " ':fried_shrimp:': '🍤',\n",
              " ':frog_face:': '🐸',\n",
              " ':front-facing_baby_chick:': '🐥',\n",
              " ':frowning_face:': '☹',\n",
              " ':frowning_face_with_open_mouth:': '😦',\n",
              " ':fuel_pump:': '⛽',\n",
              " ':full_moon:': '🌕',\n",
              " ':full_moon_face:': '🌝',\n",
              " ':funeral_urn:': '⚱',\n",
              " ':game_die:': '🎲',\n",
              " ':garlic:': '\\U0001f9c4',\n",
              " ':gear:': '⚙',\n",
              " ':gem_stone:': '💎',\n",
              " ':genie:': '🧞',\n",
              " ':ghost:': '👻',\n",
              " ':giraffe:': '🦒',\n",
              " ':girl:': '👧',\n",
              " ':girl_dark_skin_tone:': '👧🏿',\n",
              " ':girl_light_skin_tone:': '👧🏻',\n",
              " ':girl_medium-dark_skin_tone:': '👧🏾',\n",
              " ':girl_medium-light_skin_tone:': '👧🏼',\n",
              " ':girl_medium_skin_tone:': '👧🏽',\n",
              " ':glass_of_milk:': '🥛',\n",
              " ':glasses:': '👓',\n",
              " ':globe_showing_Americas:': '🌎',\n",
              " ':globe_showing_Asia-Australia:': '🌏',\n",
              " ':globe_showing_Europe-Africa:': '🌍',\n",
              " ':globe_with_meridians:': '🌐',\n",
              " ':gloves:': '🧤',\n",
              " ':glowing_star:': '🌟',\n",
              " ':goal_net:': '🥅',\n",
              " ':goat:': '🐐',\n",
              " ':goblin:': '👺',\n",
              " ':goggles:': '🥽',\n",
              " ':gorilla:': '🦍',\n",
              " ':graduation_cap:': '🎓',\n",
              " ':grapes:': '🍇',\n",
              " ':green_apple:': '🍏',\n",
              " ':green_book:': '📗',\n",
              " ':green_circle:': '\\U0001f7e2',\n",
              " ':green_heart:': '💚',\n",
              " ':green_salad:': '🥗',\n",
              " ':green_square:': '\\U0001f7e9',\n",
              " ':grimacing_face:': '😬',\n",
              " ':grinning_cat_face:': '😺',\n",
              " ':grinning_cat_face_with_smiling_eyes:': '😸',\n",
              " ':grinning_face:': '😀',\n",
              " ':grinning_face_with_big_eyes:': '😃',\n",
              " ':grinning_face_with_smiling_eyes:': '😄',\n",
              " ':grinning_face_with_sweat:': '😅',\n",
              " ':grinning_squinting_face:': '😆',\n",
              " ':growing_heart:': '💗',\n",
              " ':guard:': '💂',\n",
              " ':guard_dark_skin_tone:': '💂🏿',\n",
              " ':guard_light_skin_tone:': '💂🏻',\n",
              " ':guard_medium-dark_skin_tone:': '💂🏾',\n",
              " ':guard_medium-light_skin_tone:': '💂🏼',\n",
              " ':guard_medium_skin_tone:': '💂🏽',\n",
              " ':guide_dog:': '\\U0001f9ae',\n",
              " ':guitar:': '🎸',\n",
              " ':hamburger:': '🍔',\n",
              " ':hammer:': '🔨',\n",
              " ':hammer_and_pick:': '⚒',\n",
              " ':hammer_and_wrench:': '🛠',\n",
              " ':hamster_face:': '🐹',\n",
              " ':hand_with_fingers_splayed:': '🖐',\n",
              " ':hand_with_fingers_splayed_dark_skin_tone:': '🖐🏿',\n",
              " ':hand_with_fingers_splayed_light_skin_tone:': '🖐🏻',\n",
              " ':hand_with_fingers_splayed_medium-dark_skin_tone:': '🖐🏾',\n",
              " ':hand_with_fingers_splayed_medium-light_skin_tone:': '🖐🏼',\n",
              " ':hand_with_fingers_splayed_medium_skin_tone:': '🖐🏽',\n",
              " ':handbag:': '👜',\n",
              " ':handshake:': '🤝',\n",
              " ':hatching_chick:': '🐣',\n",
              " ':headphone:': '🎧',\n",
              " ':hear-no-evil_monkey:': '🙉',\n",
              " ':heart_decoration:': '💟',\n",
              " ':heart_suit:': '♥',\n",
              " ':heart_with_arrow:': '💘',\n",
              " ':heart_with_ribbon:': '💝',\n",
              " ':heavy_check_mark:': '✔',\n",
              " ':heavy_division_sign:': '➗',\n",
              " ':heavy_dollar_sign:': '💲',\n",
              " ':heavy_heart_exclamation:': '❣',\n",
              " ':heavy_large_circle:': '⭕',\n",
              " ':heavy_minus_sign:': '➖',\n",
              " ':heavy_multiplication_x:': '✖',\n",
              " ':heavy_plus_sign:': '➕',\n",
              " ':hedgehog:': '🦔',\n",
              " ':helicopter:': '🚁',\n",
              " ':herb:': '🌿',\n",
              " ':hibiscus:': '🌺',\n",
              " ...}"
            ]
          },
          "metadata": {
            "tags": []
          },
          "execution_count": 3
        }
      ]
    },
    {
      "cell_type": "code",
      "metadata": {
        "id": "XmvSm1g7PDBi",
        "colab_type": "code",
        "colab": {}
      },
      "source": [
        "emoji_dict = {      \"0\": \"\\u2764\\uFE0F\",    \n",
        "                    \"1\": \":baseball:\",\n",
        "                    \"2\": \":beaming_face_with_smiling_eyes:\",\n",
        "                    \"3\": \":downcast_face_with_sweat:\",\n",
        "                    \"4\": \":fork_and_knife:\",\n",
        "                   }"
      ],
      "execution_count": null,
      "outputs": []
    },
    {
      "cell_type": "code",
      "metadata": {
        "id": "q5rhKUu0PDBk",
        "colab_type": "code",
        "colab": {},
        "outputId": "791d526c-567b-4970-e40d-d9881f647c67"
      },
      "source": [
        "for e in emoji_dict.values():\n",
        "    print(emoji.emojize(e))"
      ],
      "execution_count": null,
      "outputs": [
        {
          "output_type": "stream",
          "text": [
            "❤️\n",
            "⚾\n",
            "😁\n",
            "😓\n",
            "🍴\n"
          ],
          "name": "stdout"
        }
      ]
    },
    {
      "cell_type": "markdown",
      "metadata": {
        "id": "LKkjn4rDPDBn",
        "colab_type": "text"
      },
      "source": [
        "## Read Data"
      ]
    },
    {
      "cell_type": "code",
      "metadata": {
        "id": "rOuEmQ50PDBn",
        "colab_type": "code",
        "colab": {}
      },
      "source": [
        "train_data = pd.read_csv(\"train_emoji.csv\", header=None)\n",
        "test_data =  pd.read_csv(\"test_emoji.csv\", header=None)"
      ],
      "execution_count": null,
      "outputs": []
    },
    {
      "cell_type": "code",
      "metadata": {
        "id": "UWsfKr1wPDBp",
        "colab_type": "code",
        "colab": {},
        "outputId": "ca1f3ddf-4814-4d7a-caa5-726618bc8b75"
      },
      "source": [
        "train_data.head()"
      ],
      "execution_count": null,
      "outputs": [
        {
          "output_type": "execute_result",
          "data": {
            "text/html": [
              "<div>\n",
              "<style scoped>\n",
              "    .dataframe tbody tr th:only-of-type {\n",
              "        vertical-align: middle;\n",
              "    }\n",
              "\n",
              "    .dataframe tbody tr th {\n",
              "        vertical-align: top;\n",
              "    }\n",
              "\n",
              "    .dataframe thead th {\n",
              "        text-align: right;\n",
              "    }\n",
              "</style>\n",
              "<table border=\"1\" class=\"dataframe\">\n",
              "  <thead>\n",
              "    <tr style=\"text-align: right;\">\n",
              "      <th></th>\n",
              "      <th>0</th>\n",
              "      <th>1</th>\n",
              "      <th>2</th>\n",
              "      <th>3</th>\n",
              "    </tr>\n",
              "  </thead>\n",
              "  <tbody>\n",
              "    <tr>\n",
              "      <th>0</th>\n",
              "      <td>never talk to me again</td>\n",
              "      <td>3</td>\n",
              "      <td>NaN</td>\n",
              "      <td>NaN</td>\n",
              "    </tr>\n",
              "    <tr>\n",
              "      <th>1</th>\n",
              "      <td>I am proud of your achievements</td>\n",
              "      <td>2</td>\n",
              "      <td>NaN</td>\n",
              "      <td>NaN</td>\n",
              "    </tr>\n",
              "    <tr>\n",
              "      <th>2</th>\n",
              "      <td>It is the worst day in my life</td>\n",
              "      <td>3</td>\n",
              "      <td>NaN</td>\n",
              "      <td>NaN</td>\n",
              "    </tr>\n",
              "    <tr>\n",
              "      <th>3</th>\n",
              "      <td>Miss you so much</td>\n",
              "      <td>0</td>\n",
              "      <td>NaN</td>\n",
              "      <td>[0]</td>\n",
              "    </tr>\n",
              "    <tr>\n",
              "      <th>4</th>\n",
              "      <td>food is life</td>\n",
              "      <td>4</td>\n",
              "      <td>NaN</td>\n",
              "      <td>NaN</td>\n",
              "    </tr>\n",
              "  </tbody>\n",
              "</table>\n",
              "</div>"
            ],
            "text/plain": [
              "                                 0  1   2     3\n",
              "0           never talk to me again  3 NaN   NaN\n",
              "1  I am proud of your achievements  2 NaN   NaN\n",
              "2   It is the worst day in my life  3 NaN   NaN\n",
              "3                 Miss you so much  0 NaN   [0]\n",
              "4                     food is life  4 NaN   NaN"
            ]
          },
          "metadata": {
            "tags": []
          },
          "execution_count": 7
        }
      ]
    },
    {
      "cell_type": "code",
      "metadata": {
        "id": "5Sh0UiAmPDBs",
        "colab_type": "code",
        "colab": {}
      },
      "source": [
        "train_data.drop(columns=[2, 3], inplace=True)"
      ],
      "execution_count": null,
      "outputs": []
    },
    {
      "cell_type": "code",
      "metadata": {
        "id": "cmwdSahAPDBu",
        "colab_type": "code",
        "colab": {}
      },
      "source": [
        "train_data.columns = [\"Text\", 'Label']"
      ],
      "execution_count": null,
      "outputs": []
    },
    {
      "cell_type": "code",
      "metadata": {
        "id": "FPVZD0zTPDBw",
        "colab_type": "code",
        "colab": {}
      },
      "source": [
        "test_data.columns = ['Text', 'Label']"
      ],
      "execution_count": null,
      "outputs": []
    },
    {
      "cell_type": "code",
      "metadata": {
        "id": "BE9gV83IPDBy",
        "colab_type": "code",
        "colab": {},
        "outputId": "67752693-29d8-4c94-ed1c-afbb97437691"
      },
      "source": [
        "train_data.head()"
      ],
      "execution_count": null,
      "outputs": [
        {
          "output_type": "execute_result",
          "data": {
            "text/html": [
              "<div>\n",
              "<style scoped>\n",
              "    .dataframe tbody tr th:only-of-type {\n",
              "        vertical-align: middle;\n",
              "    }\n",
              "\n",
              "    .dataframe tbody tr th {\n",
              "        vertical-align: top;\n",
              "    }\n",
              "\n",
              "    .dataframe thead th {\n",
              "        text-align: right;\n",
              "    }\n",
              "</style>\n",
              "<table border=\"1\" class=\"dataframe\">\n",
              "  <thead>\n",
              "    <tr style=\"text-align: right;\">\n",
              "      <th></th>\n",
              "      <th>Text</th>\n",
              "      <th>Label</th>\n",
              "    </tr>\n",
              "  </thead>\n",
              "  <tbody>\n",
              "    <tr>\n",
              "      <th>0</th>\n",
              "      <td>never talk to me again</td>\n",
              "      <td>3</td>\n",
              "    </tr>\n",
              "    <tr>\n",
              "      <th>1</th>\n",
              "      <td>I am proud of your achievements</td>\n",
              "      <td>2</td>\n",
              "    </tr>\n",
              "    <tr>\n",
              "      <th>2</th>\n",
              "      <td>It is the worst day in my life</td>\n",
              "      <td>3</td>\n",
              "    </tr>\n",
              "    <tr>\n",
              "      <th>3</th>\n",
              "      <td>Miss you so much</td>\n",
              "      <td>0</td>\n",
              "    </tr>\n",
              "    <tr>\n",
              "      <th>4</th>\n",
              "      <td>food is life</td>\n",
              "      <td>4</td>\n",
              "    </tr>\n",
              "  </tbody>\n",
              "</table>\n",
              "</div>"
            ],
            "text/plain": [
              "                              Text  Label\n",
              "0           never talk to me again      3\n",
              "1  I am proud of your achievements      2\n",
              "2   It is the worst day in my life      3\n",
              "3                 Miss you so much      0\n",
              "4                     food is life      4"
            ]
          },
          "metadata": {
            "tags": []
          },
          "execution_count": 11
        }
      ]
    },
    {
      "cell_type": "code",
      "metadata": {
        "id": "Aub4UrgvPDB0",
        "colab_type": "code",
        "colab": {}
      },
      "source": [
        "x_train = train_data['Text'].values\n",
        "y_train = train_data['Label'].values\n",
        "\n",
        "x_test = test_data['Text'].values\n",
        "y_test = test_data['Label'].values"
      ],
      "execution_count": null,
      "outputs": []
    },
    {
      "cell_type": "code",
      "metadata": {
        "id": "yH4kTDCHPDB2",
        "colab_type": "code",
        "colab": {},
        "outputId": "cdd657ad-b6fb-4170-cb70-659b495e6020"
      },
      "source": [
        "y_train"
      ],
      "execution_count": null,
      "outputs": [
        {
          "output_type": "execute_result",
          "data": {
            "text/plain": [
              "array([3, 2, 3, 0, 4, 0, 3, 2, 3, 1, 3, 3, 1, 3, 2, 3, 2, 3, 1, 2, 3, 0,\n",
              "       2, 2, 2, 1, 4, 2, 2, 4, 0, 3, 4, 2, 0, 3, 2, 2, 3, 4, 2, 2, 0, 2,\n",
              "       3, 0, 3, 2, 4, 3, 0, 3, 3, 3, 4, 2, 1, 1, 1, 2, 3, 1, 0, 0, 0, 3,\n",
              "       4, 4, 2, 2, 1, 2, 0, 3, 2, 2, 0, 0, 3, 1, 2, 1, 2, 2, 4, 3, 3, 2,\n",
              "       4, 0, 0, 0, 3, 3, 3, 2, 0, 1, 2, 3, 0, 2, 2, 2, 3, 2, 2, 2, 4, 1,\n",
              "       1, 3, 3, 4, 1, 2, 1, 1, 3, 1, 0, 4, 0, 3, 3, 4, 4, 1, 4, 3, 0, 2],\n",
              "      dtype=int64)"
            ]
          },
          "metadata": {
            "tags": []
          },
          "execution_count": 13
        }
      ]
    },
    {
      "cell_type": "code",
      "metadata": {
        "id": "IhvzdwfbPDB4",
        "colab_type": "code",
        "colab": {},
        "outputId": "13fbdfa6-ce2b-47b0-e317-59623cd7e827"
      },
      "source": [
        "x_train.shape"
      ],
      "execution_count": null,
      "outputs": [
        {
          "output_type": "execute_result",
          "data": {
            "text/plain": [
              "(132,)"
            ]
          },
          "metadata": {
            "tags": []
          },
          "execution_count": 14
        }
      ]
    },
    {
      "cell_type": "code",
      "metadata": {
        "id": "5CVGXQWIPDB6",
        "colab_type": "code",
        "colab": {},
        "outputId": "77ca5287-8d19-4dc5-be67-d92210927fd7"
      },
      "source": [
        "x_test.shape"
      ],
      "execution_count": null,
      "outputs": [
        {
          "output_type": "execute_result",
          "data": {
            "text/plain": [
              "(56,)"
            ]
          },
          "metadata": {
            "tags": []
          },
          "execution_count": 15
        }
      ]
    },
    {
      "cell_type": "code",
      "metadata": {
        "id": "TyIn6VPNPDB8",
        "colab_type": "code",
        "colab": {},
        "outputId": "560324aa-ac4e-4c73-ddda-e6a87c7878f3"
      },
      "source": [
        "for i in range(19, 29):\n",
        "    print(x_train[i], emoji.emojize(emoji_dict[str(y_train[i])]))"
      ],
      "execution_count": null,
      "outputs": [
        {
          "output_type": "stream",
          "text": [
            "I will celebrate soon 😁\n",
            "So sad you are not coming 😓\n",
            "She is my dearest love ❤️\n",
            "Good job 😁\n",
            "It was funny lol 😁\n",
            "candy is life  😁\n",
            "The chicago cubs won again ⚾\n",
            "I am hungry 🍴\n",
            "I am so excited to see you after so long 😁\n",
            "you did well on you exam 😁\n"
          ],
          "name": "stdout"
        }
      ]
    },
    {
      "cell_type": "code",
      "metadata": {
        "id": "a63OKzwxPDB-",
        "colab_type": "code",
        "colab": {}
      },
      "source": [
        ""
      ],
      "execution_count": null,
      "outputs": []
    },
    {
      "cell_type": "markdown",
      "metadata": {
        "id": "qVGvQbHNPDCA",
        "colab_type": "text"
      },
      "source": [
        "# Get Embedding"
      ]
    },
    {
      "cell_type": "code",
      "metadata": {
        "id": "12ADwIKuPDCA",
        "colab_type": "code",
        "colab": {}
      },
      "source": [
        "f = open(\"glove.6B.50d.txt\", encoding='utf8')"
      ],
      "execution_count": null,
      "outputs": []
    },
    {
      "cell_type": "code",
      "metadata": {
        "id": "670epb6UPDCE",
        "colab_type": "code",
        "colab": {}
      },
      "source": [
        "embedding_index = {}\n",
        "\n",
        "for line in f:\n",
        "    values = line.split()\n",
        "    word = values[0]\n",
        "    emb = np.array(values[1:], dtype ='float')\n",
        "    \n",
        "    embedding_index[word] = emb"
      ],
      "execution_count": null,
      "outputs": []
    },
    {
      "cell_type": "code",
      "metadata": {
        "id": "woPtfLSwPDCG",
        "colab_type": "code",
        "colab": {},
        "outputId": "b25d38f0-3f7d-444c-8cc6-f5032c3e5cd0"
      },
      "source": [
        "embedding_index['america']\n",
        "embedding_index['apple'].shape"
      ],
      "execution_count": null,
      "outputs": [
        {
          "output_type": "execute_result",
          "data": {
            "text/plain": [
              "(50,)"
            ]
          },
          "metadata": {
            "tags": []
          },
          "execution_count": 19
        }
      ]
    },
    {
      "cell_type": "code",
      "metadata": {
        "id": "-dmEkI2RPDCI",
        "colab_type": "code",
        "colab": {}
      },
      "source": [
        ""
      ],
      "execution_count": null,
      "outputs": []
    },
    {
      "cell_type": "code",
      "metadata": {
        "id": "8-uShMGnPDCK",
        "colab_type": "code",
        "colab": {}
      },
      "source": [
        ""
      ],
      "execution_count": null,
      "outputs": []
    },
    {
      "cell_type": "code",
      "metadata": {
        "id": "lNwIfzdvPDCM",
        "colab_type": "code",
        "colab": {}
      },
      "source": [
        "def get_embedding_output(X):\n",
        "    maxLen = 10\n",
        "    embedding_output = np.zeros((len(X), maxLen, 50))\n",
        "    \n",
        "    for ix in range(X.shape[0]):\n",
        "        X[ix] = X[ix].split()\n",
        "        \n",
        "        for ij in range(len(X[ix])):\n",
        "            embedding_output[ix][ij] = embedding_index[X[ix][ij].lower()]\n",
        "            \n",
        "    return embedding_output"
      ],
      "execution_count": null,
      "outputs": []
    },
    {
      "cell_type": "code",
      "metadata": {
        "id": "fRqGAEo2PDCN",
        "colab_type": "code",
        "colab": {}
      },
      "source": [
        "train_embeddings = get_embedding_output(x_train)"
      ],
      "execution_count": null,
      "outputs": []
    },
    {
      "cell_type": "code",
      "metadata": {
        "id": "yrmFs23HPDCP",
        "colab_type": "code",
        "colab": {}
      },
      "source": [
        "test_embeddings = get_embedding_output(x_test)"
      ],
      "execution_count": null,
      "outputs": []
    },
    {
      "cell_type": "code",
      "metadata": {
        "id": "rTIn1L-fPDCS",
        "colab_type": "code",
        "colab": {},
        "outputId": "96a06761-2d83-40b7-8f46-97ad3692d8ec"
      },
      "source": [
        "train_embeddings.shape"
      ],
      "execution_count": null,
      "outputs": [
        {
          "output_type": "execute_result",
          "data": {
            "text/plain": [
              "(132, 10, 50)"
            ]
          },
          "metadata": {
            "tags": []
          },
          "execution_count": 23
        }
      ]
    },
    {
      "cell_type": "code",
      "metadata": {
        "id": "FeYy0fPTPDCU",
        "colab_type": "code",
        "colab": {},
        "outputId": "f68f509b-1838-4d4f-c8d2-582b3709216f"
      },
      "source": [
        "test_embeddings.shape"
      ],
      "execution_count": null,
      "outputs": [
        {
          "output_type": "execute_result",
          "data": {
            "text/plain": [
              "(56, 10, 50)"
            ]
          },
          "metadata": {
            "tags": []
          },
          "execution_count": 24
        }
      ]
    },
    {
      "cell_type": "code",
      "metadata": {
        "id": "BDo6Tu0ePDCW",
        "colab_type": "code",
        "colab": {}
      },
      "source": [
        "from keras.utils import to_categorical"
      ],
      "execution_count": null,
      "outputs": []
    },
    {
      "cell_type": "code",
      "metadata": {
        "id": "epBaK8xHPDCY",
        "colab_type": "code",
        "colab": {}
      },
      "source": [
        "y_train = to_categorical(y_train)\n",
        "y_test = to_categorical(y_test)"
      ],
      "execution_count": null,
      "outputs": []
    },
    {
      "cell_type": "code",
      "metadata": {
        "id": "RKy0oZeYPDCZ",
        "colab_type": "code",
        "colab": {},
        "outputId": "7f568582-a5a4-4301-83f2-d578fb20eb10"
      },
      "source": [
        "y_train.shape"
      ],
      "execution_count": null,
      "outputs": [
        {
          "output_type": "execute_result",
          "data": {
            "text/plain": [
              "(132, 5)"
            ]
          },
          "metadata": {
            "tags": []
          },
          "execution_count": 27
        }
      ]
    },
    {
      "cell_type": "code",
      "metadata": {
        "id": "rrBy_3VnPDCc",
        "colab_type": "code",
        "colab": {},
        "outputId": "9c85def6-0fb9-4ee3-8cbd-5c83e0f02aa8"
      },
      "source": [
        "y_test.shape"
      ],
      "execution_count": null,
      "outputs": [
        {
          "output_type": "execute_result",
          "data": {
            "text/plain": [
              "(56, 5)"
            ]
          },
          "metadata": {
            "tags": []
          },
          "execution_count": 28
        }
      ]
    },
    {
      "cell_type": "markdown",
      "metadata": {
        "id": "C14Q1sD2PDCe",
        "colab_type": "text"
      },
      "source": [
        "## Define LSTM/RNN Model"
      ]
    },
    {
      "cell_type": "code",
      "metadata": {
        "id": "J64JnKi5PDCe",
        "colab_type": "code",
        "colab": {}
      },
      "source": [
        "from keras.models import Sequential\n",
        "from keras.layers import LSTM, Dense, Dropout, SimpleRNN"
      ],
      "execution_count": null,
      "outputs": []
    },
    {
      "cell_type": "code",
      "metadata": {
        "id": "eL-YcQ7BPDCf",
        "colab_type": "code",
        "colab": {},
        "outputId": "348648fc-3821-4043-e332-4150af26350d"
      },
      "source": [
        "model = Sequential()\n",
        "model.add(LSTM(units=64, input_shape =(10, 50), return_sequences= True ))\n",
        "model.add(Dropout(0.3))\n",
        "model.add(LSTM(units = 32))\n",
        "model.add(Dropout(0.3))\n",
        "model.add(Dense(units= 10, activation= 'tanh'))\n",
        "model.add(Dense(units= 5, activation= 'softmax'))\n",
        "model.summary()"
      ],
      "execution_count": null,
      "outputs": [
        {
          "output_type": "stream",
          "text": [
            "Model: \"sequential\"\n",
            "_________________________________________________________________\n",
            "Layer (type)                 Output Shape              Param #   \n",
            "=================================================================\n",
            "lstm (LSTM)                  (None, 10, 64)            29440     \n",
            "_________________________________________________________________\n",
            "dropout (Dropout)            (None, 10, 64)            0         \n",
            "_________________________________________________________________\n",
            "lstm_1 (LSTM)                (None, 32)                12416     \n",
            "_________________________________________________________________\n",
            "dropout_1 (Dropout)          (None, 32)                0         \n",
            "_________________________________________________________________\n",
            "dense (Dense)                (None, 10)                330       \n",
            "_________________________________________________________________\n",
            "dense_1 (Dense)              (None, 5)                 55        \n",
            "=================================================================\n",
            "Total params: 42,241\n",
            "Trainable params: 42,241\n",
            "Non-trainable params: 0\n",
            "_________________________________________________________________\n"
          ],
          "name": "stdout"
        }
      ]
    },
    {
      "cell_type": "code",
      "metadata": {
        "id": "X3z1Rz8MPDCh",
        "colab_type": "code",
        "colab": {}
      },
      "source": [
        "model.compile(optimizer='adam', loss=\"categorical_crossentropy\", metrics=['accuracy'])"
      ],
      "execution_count": null,
      "outputs": []
    },
    {
      "cell_type": "code",
      "metadata": {
        "scrolled": true,
        "id": "ly026OHaPDCj",
        "colab_type": "code",
        "colab": {},
        "outputId": "696193f2-376a-4e60-eaed-30931bdd9d44"
      },
      "source": [
        "# Callbacks\n",
        "\n",
        "hist = model.fit(train_embeddings, y_train, validation_split=0.1 , shuffle=True, batch_size=64, epochs=50 )"
      ],
      "execution_count": null,
      "outputs": [
        {
          "output_type": "stream",
          "text": [
            "Epoch 1/50\n",
            "2/2 [==============================] - 1s 270ms/step - loss: 1.5944 - accuracy: 0.2203 - val_loss: 1.6090 - val_accuracy: 0.2857\n",
            "Epoch 2/50\n",
            "2/2 [==============================] - 0s 18ms/step - loss: 1.5481 - accuracy: 0.3220 - val_loss: 1.6141 - val_accuracy: 0.2857\n",
            "Epoch 3/50\n",
            "2/2 [==============================] - 0s 18ms/step - loss: 1.5271 - accuracy: 0.3136 - val_loss: 1.6300 - val_accuracy: 0.2857\n",
            "Epoch 4/50\n",
            "2/2 [==============================] - 0s 17ms/step - loss: 1.5029 - accuracy: 0.3814 - val_loss: 1.6443 - val_accuracy: 0.2857\n",
            "Epoch 5/50\n",
            "2/2 [==============================] - 0s 17ms/step - loss: 1.4897 - accuracy: 0.3814 - val_loss: 1.6514 - val_accuracy: 0.2857\n",
            "Epoch 6/50\n",
            "2/2 [==============================] - 0s 17ms/step - loss: 1.4685 - accuracy: 0.3559 - val_loss: 1.6484 - val_accuracy: 0.2857\n",
            "Epoch 7/50\n",
            "2/2 [==============================] - 0s 16ms/step - loss: 1.4537 - accuracy: 0.4576 - val_loss: 1.6451 - val_accuracy: 0.2857\n",
            "Epoch 8/50\n",
            "2/2 [==============================] - 0s 17ms/step - loss: 1.4319 - accuracy: 0.4153 - val_loss: 1.6370 - val_accuracy: 0.1429\n",
            "Epoch 9/50\n",
            "2/2 [==============================] - 0s 19ms/step - loss: 1.4202 - accuracy: 0.3898 - val_loss: 1.6245 - val_accuracy: 0.0714\n",
            "Epoch 10/50\n",
            "2/2 [==============================] - 0s 17ms/step - loss: 1.3732 - accuracy: 0.4492 - val_loss: 1.5957 - val_accuracy: 0.1429\n",
            "Epoch 11/50\n",
            "2/2 [==============================] - 0s 18ms/step - loss: 1.3492 - accuracy: 0.4831 - val_loss: 1.5483 - val_accuracy: 0.2143\n",
            "Epoch 12/50\n",
            "2/2 [==============================] - 0s 17ms/step - loss: 1.3209 - accuracy: 0.4661 - val_loss: 1.4966 - val_accuracy: 0.2857\n",
            "Epoch 13/50\n",
            "2/2 [==============================] - 0s 16ms/step - loss: 1.2664 - accuracy: 0.5169 - val_loss: 1.4710 - val_accuracy: 0.2857\n",
            "Epoch 14/50\n",
            "2/2 [==============================] - 0s 16ms/step - loss: 1.2123 - accuracy: 0.5339 - val_loss: 1.4474 - val_accuracy: 0.2857\n",
            "Epoch 15/50\n",
            "2/2 [==============================] - 0s 15ms/step - loss: 1.1750 - accuracy: 0.5847 - val_loss: 1.4172 - val_accuracy: 0.2857\n",
            "Epoch 16/50\n",
            "2/2 [==============================] - 0s 15ms/step - loss: 1.1346 - accuracy: 0.6017 - val_loss: 1.3743 - val_accuracy: 0.2857\n",
            "Epoch 17/50\n",
            "2/2 [==============================] - 0s 16ms/step - loss: 1.0941 - accuracy: 0.6356 - val_loss: 1.3110 - val_accuracy: 0.5000\n",
            "Epoch 18/50\n",
            "2/2 [==============================] - 0s 18ms/step - loss: 1.0504 - accuracy: 0.6525 - val_loss: 1.3403 - val_accuracy: 0.2857\n",
            "Epoch 19/50\n",
            "2/2 [==============================] - 0s 16ms/step - loss: 0.9714 - accuracy: 0.7034 - val_loss: 1.2655 - val_accuracy: 0.5000\n",
            "Epoch 20/50\n",
            "2/2 [==============================] - 0s 16ms/step - loss: 0.9247 - accuracy: 0.7627 - val_loss: 1.1797 - val_accuracy: 0.6429\n",
            "Epoch 21/50\n",
            "2/2 [==============================] - 0s 16ms/step - loss: 0.8795 - accuracy: 0.7119 - val_loss: 1.2067 - val_accuracy: 0.5714\n",
            "Epoch 22/50\n",
            "2/2 [==============================] - 0s 16ms/step - loss: 0.8381 - accuracy: 0.7373 - val_loss: 1.1633 - val_accuracy: 0.5714\n",
            "Epoch 23/50\n",
            "2/2 [==============================] - 0s 16ms/step - loss: 0.7771 - accuracy: 0.7627 - val_loss: 1.0687 - val_accuracy: 0.6429\n",
            "Epoch 24/50\n",
            "2/2 [==============================] - 0s 16ms/step - loss: 0.7303 - accuracy: 0.7627 - val_loss: 1.0890 - val_accuracy: 0.6429\n",
            "Epoch 25/50\n",
            "2/2 [==============================] - 0s 16ms/step - loss: 0.7262 - accuracy: 0.7881 - val_loss: 1.1164 - val_accuracy: 0.5714\n",
            "Epoch 26/50\n",
            "2/2 [==============================] - 0s 15ms/step - loss: 0.6931 - accuracy: 0.7881 - val_loss: 1.0114 - val_accuracy: 0.7143\n",
            "Epoch 27/50\n",
            "2/2 [==============================] - 0s 16ms/step - loss: 0.6511 - accuracy: 0.8051 - val_loss: 1.0766 - val_accuracy: 0.5714\n",
            "Epoch 28/50\n",
            "2/2 [==============================] - 0s 17ms/step - loss: 0.6131 - accuracy: 0.8390 - val_loss: 1.0607 - val_accuracy: 0.5714\n",
            "Epoch 29/50\n",
            "2/2 [==============================] - 0s 43ms/step - loss: 0.6210 - accuracy: 0.8390 - val_loss: 0.9225 - val_accuracy: 0.7143\n",
            "Epoch 30/50\n",
            "2/2 [==============================] - 0s 16ms/step - loss: 0.6535 - accuracy: 0.8475 - val_loss: 1.0012 - val_accuracy: 0.6429\n",
            "Epoch 31/50\n",
            "2/2 [==============================] - 0s 16ms/step - loss: 0.5719 - accuracy: 0.8390 - val_loss: 1.2408 - val_accuracy: 0.5000\n",
            "Epoch 32/50\n",
            "2/2 [==============================] - 0s 16ms/step - loss: 0.5844 - accuracy: 0.8644 - val_loss: 0.9287 - val_accuracy: 0.7143\n",
            "Epoch 33/50\n",
            "2/2 [==============================] - 0s 16ms/step - loss: 0.5014 - accuracy: 0.8559 - val_loss: 0.8194 - val_accuracy: 0.7143\n",
            "Epoch 34/50\n",
            "2/2 [==============================] - 0s 16ms/step - loss: 0.5059 - accuracy: 0.8729 - val_loss: 0.9270 - val_accuracy: 0.6429\n",
            "Epoch 35/50\n",
            "2/2 [==============================] - 0s 16ms/step - loss: 0.4967 - accuracy: 0.8814 - val_loss: 0.9135 - val_accuracy: 0.6429\n",
            "Epoch 36/50\n",
            "2/2 [==============================] - 0s 16ms/step - loss: 0.4304 - accuracy: 0.9068 - val_loss: 0.8831 - val_accuracy: 0.6429\n",
            "Epoch 37/50\n",
            "2/2 [==============================] - 0s 15ms/step - loss: 0.4568 - accuracy: 0.8729 - val_loss: 1.0314 - val_accuracy: 0.6429\n",
            "Epoch 38/50\n",
            "2/2 [==============================] - 0s 17ms/step - loss: 0.4729 - accuracy: 0.8983 - val_loss: 1.0667 - val_accuracy: 0.5714\n",
            "Epoch 39/50\n",
            "2/2 [==============================] - 0s 16ms/step - loss: 0.4165 - accuracy: 0.9068 - val_loss: 0.8145 - val_accuracy: 0.7143\n",
            "Epoch 40/50\n",
            "2/2 [==============================] - 0s 16ms/step - loss: 0.3805 - accuracy: 0.8983 - val_loss: 0.7918 - val_accuracy: 0.7143\n",
            "Epoch 41/50\n",
            "2/2 [==============================] - 0s 18ms/step - loss: 0.4179 - accuracy: 0.8814 - val_loss: 0.9120 - val_accuracy: 0.6429\n",
            "Epoch 42/50\n",
            "2/2 [==============================] - 0s 15ms/step - loss: 0.4159 - accuracy: 0.8983 - val_loss: 0.8424 - val_accuracy: 0.7143\n",
            "Epoch 43/50\n",
            "2/2 [==============================] - 0s 15ms/step - loss: 0.3735 - accuracy: 0.9068 - val_loss: 0.8052 - val_accuracy: 0.6429\n",
            "Epoch 44/50\n",
            "2/2 [==============================] - 0s 16ms/step - loss: 0.3584 - accuracy: 0.9153 - val_loss: 0.9163 - val_accuracy: 0.7143\n",
            "Epoch 45/50\n",
            "2/2 [==============================] - 0s 15ms/step - loss: 0.3362 - accuracy: 0.9407 - val_loss: 0.8750 - val_accuracy: 0.7143\n",
            "Epoch 46/50\n",
            "2/2 [==============================] - 0s 16ms/step - loss: 0.3046 - accuracy: 0.9407 - val_loss: 0.8002 - val_accuracy: 0.7143\n",
            "Epoch 47/50\n",
            "2/2 [==============================] - 0s 16ms/step - loss: 0.2849 - accuracy: 0.9576 - val_loss: 0.8080 - val_accuracy: 0.7143\n",
            "Epoch 48/50\n",
            "2/2 [==============================] - 0s 17ms/step - loss: 0.2704 - accuracy: 0.9492 - val_loss: 0.8448 - val_accuracy: 0.7143\n",
            "Epoch 49/50\n",
            "2/2 [==============================] - 0s 16ms/step - loss: 0.2638 - accuracy: 0.9492 - val_loss: 0.8527 - val_accuracy: 0.7143\n",
            "Epoch 50/50\n",
            "2/2 [==============================] - 0s 16ms/step - loss: 0.2466 - accuracy: 0.9576 - val_loss: 0.8679 - val_accuracy: 0.7143\n"
          ],
          "name": "stdout"
        }
      ]
    },
    {
      "cell_type": "code",
      "metadata": {
        "id": "IYcH_ZiyPDCk",
        "colab_type": "code",
        "colab": {}
      },
      "source": [
        ""
      ],
      "execution_count": null,
      "outputs": []
    },
    {
      "cell_type": "code",
      "metadata": {
        "id": "qLBJ4HKYPDCm",
        "colab_type": "code",
        "colab": {},
        "outputId": "3f1b6002-ec69-4c8e-c6fd-4329ac0c2ffd"
      },
      "source": [
        "model.evaluate(test_embeddings, y_test)"
      ],
      "execution_count": null,
      "outputs": [
        {
          "output_type": "stream",
          "text": [
            "2/2 [==============================] - 0s 1ms/step - loss: 1.2867 - accuracy: 0.5714\n"
          ],
          "name": "stdout"
        },
        {
          "output_type": "execute_result",
          "data": {
            "text/plain": [
              "[1.2866630554199219, 0.5714285969734192]"
            ]
          },
          "metadata": {
            "tags": []
          },
          "execution_count": 33
        }
      ]
    },
    {
      "cell_type": "code",
      "metadata": {
        "id": "0N5_M9JUPDCo",
        "colab_type": "code",
        "colab": {},
        "outputId": "5f2cec15-3e43-40d3-d8bc-6a670ee8a8c8"
      },
      "source": [
        "pred = model.predict_classes(test_embeddings)"
      ],
      "execution_count": null,
      "outputs": [
        {
          "output_type": "stream",
          "text": [
            "WARNING:tensorflow:From <ipython-input-34-194ed36a1319>:1: Sequential.predict_classes (from tensorflow.python.keras.engine.sequential) is deprecated and will be removed after 2021-01-01.\n",
            "Instructions for updating:\n",
            "Please use instead:* `np.argmax(model.predict(x), axis=-1)`,   if your model does multi-class classification   (e.g. if it uses a `softmax` last-layer activation).* `(model.predict(x) > 0.5).astype(\"int32\")`,   if your model does binary classification   (e.g. if it uses a `sigmoid` last-layer activation).\n"
          ],
          "name": "stdout"
        }
      ]
    },
    {
      "cell_type": "code",
      "metadata": {
        "id": "pGoEMoYoPDCq",
        "colab_type": "code",
        "colab": {},
        "outputId": "94acf46d-c717-486e-c353-c4acfa694da4"
      },
      "source": [
        "pred"
      ],
      "execution_count": null,
      "outputs": [
        {
          "output_type": "execute_result",
          "data": {
            "text/plain": [
              "array([4, 3, 3, 2, 2, 2, 3, 2, 4, 2, 1, 2, 0, 0, 1, 3, 3, 2, 4, 4, 0, 0,\n",
              "       4, 0, 3, 3, 2, 0, 1, 2, 0, 1, 0, 2, 0, 1, 2, 3, 4, 2, 2, 0, 0, 1,\n",
              "       2, 2, 3, 2, 3, 1, 3, 2, 3, 2, 3, 4], dtype=int64)"
            ]
          },
          "metadata": {
            "tags": []
          },
          "execution_count": 35
        }
      ]
    },
    {
      "cell_type": "code",
      "metadata": {
        "id": "vO3FwjVpPDCr",
        "colab_type": "code",
        "colab": {},
        "outputId": "898ce07c-36e8-4688-afd6-68b32ecbeca3"
      },
      "source": [
        "x_test"
      ],
      "execution_count": null,
      "outputs": [
        {
          "output_type": "execute_result",
          "data": {
            "text/plain": [
              "array([list(['I', 'want', 'to', 'eat']),\n",
              "       list(['he', 'did', 'not', 'answer']),\n",
              "       list(['he', 'got', 'a', 'raise']),\n",
              "       list(['she', 'got', 'me', 'a', 'present']),\n",
              "       list(['ha', 'ha', 'ha', 'it', 'was', 'so', 'funny']),\n",
              "       list(['he', 'is', 'a', 'good', 'friend']),\n",
              "       list(['I', 'am', 'upset']),\n",
              "       list(['We', 'had', 'such', 'a', 'lovely', 'dinner', 'tonight']),\n",
              "       list(['where', 'is', 'the', 'food']),\n",
              "       list(['Stop', 'making', 'this', 'joke', 'ha', 'ha', 'ha']),\n",
              "       list(['where', 'is', 'the', 'ball']), list(['work', 'is', 'hard']),\n",
              "       list(['This', 'girl', 'is', 'messing', 'with', 'me']),\n",
              "       list(['are', 'you', 'serious', 'ha', 'ha']),\n",
              "       list(['Let', 'us', 'go', 'play', 'baseball']),\n",
              "       list(['This', 'stupid', 'grader', 'is', 'not', 'working']),\n",
              "       list(['work', 'is', 'horrible']),\n",
              "       list(['Congratulation', 'for', 'having', 'a', 'baby']),\n",
              "       list(['stop', 'messing', 'around']),\n",
              "       list(['any', 'suggestions', 'for', 'dinner']),\n",
              "       list(['I', 'love', 'taking', 'breaks']),\n",
              "       list(['you', 'brighten', 'my', 'day']),\n",
              "       list(['I', 'boiled', 'rice']), list(['she', 'is', 'a', 'bully']),\n",
              "       list(['Why', 'are', 'you', 'feeling', 'bad']),\n",
              "       list(['I', 'am', 'upset']),\n",
              "       list(['I', 'worked', 'during', 'my', 'birthday']),\n",
              "       list(['My', 'grandmother', 'is', 'the', 'love', 'of', 'my', 'life']),\n",
              "       list(['enjoy', 'your', 'break']),\n",
              "       list(['valentine', 'day', 'is', 'near']),\n",
              "       list(['I', 'miss', 'you', 'so', 'much']),\n",
              "       list(['throw', 'the', 'ball']),\n",
              "       list(['My', 'life', 'is', 'so', 'boring']),\n",
              "       list(['she', 'said', 'yes']),\n",
              "       list(['will', 'you', 'be', 'my', 'valentine']),\n",
              "       list(['he', 'can', 'pitch', 'really', 'well']),\n",
              "       list(['dance', 'with', 'me']), list(['I', 'am', 'starving']),\n",
              "       list(['See', 'you', 'at', 'the', 'restaurant']),\n",
              "       list(['I', 'like', 'to', 'laugh']),\n",
              "       list(['I', 'will', 'go', 'dance']),\n",
              "       list(['I', 'like', 'your', 'jacket']), list(['i', 'miss', 'her']),\n",
              "       list(['what', 'is', 'your', 'favorite', 'baseball', 'game']),\n",
              "       list(['Good', 'job']),\n",
              "       list(['I', 'love', 'to', 'the', 'stars', 'and', 'back']),\n",
              "       list(['What', 'you', 'did', 'was', 'awesome']),\n",
              "       list(['ha', 'ha', 'ha', 'lol']), list(['I', 'want', 'to', 'joke']),\n",
              "       list(['go', 'away']), list(['yesterday', 'we', 'lost', 'again']),\n",
              "       list(['family', 'is', 'all', 'I', 'have']),\n",
              "       list(['you', 'are', 'failing', 'this', 'exercise']),\n",
              "       list(['Good', 'joke']),\n",
              "       list(['You', 'totally', 'deserve', 'this', 'prize']),\n",
              "       list(['I', 'did', 'not', 'have', 'breakfast'])], dtype=object)"
            ]
          },
          "metadata": {
            "tags": []
          },
          "execution_count": 36
        }
      ]
    },
    {
      "cell_type": "code",
      "metadata": {
        "id": "54_QdONIPDCu",
        "colab_type": "code",
        "colab": {},
        "outputId": "49b82051-9558-4c44-99a2-44dc4d3e0d7c"
      },
      "source": [
        "for i in range(len(pred)):\n",
        "    \n",
        "    print(\" \".join(x_test[i]))\n",
        "    \n",
        "    emote = emoji_dict[str(pred[i])]\n",
        "    print(emoji.emojize(emote))"
      ],
      "execution_count": null,
      "outputs": [
        {
          "output_type": "stream",
          "text": [
            "I want to eat\n",
            "🍴\n",
            "he did not answer\n",
            "😓\n",
            "he got a raise\n",
            "😓\n",
            "she got me a present\n",
            "😁\n",
            "ha ha ha it was so funny\n",
            "😁\n",
            "he is a good friend\n",
            "😁\n",
            "I am upset\n",
            "😓\n",
            "We had such a lovely dinner tonight\n",
            "😁\n",
            "where is the food\n",
            "🍴\n",
            "Stop making this joke ha ha ha\n",
            "😁\n",
            "where is the ball\n",
            "⚾\n",
            "work is hard\n",
            "😁\n",
            "This girl is messing with me\n",
            "❤️\n",
            "are you serious ha ha\n",
            "❤️\n",
            "Let us go play baseball\n",
            "⚾\n",
            "This stupid grader is not working\n",
            "😓\n",
            "work is horrible\n",
            "😓\n",
            "Congratulation for having a baby\n",
            "😁\n",
            "stop messing around\n",
            "🍴\n",
            "any suggestions for dinner\n",
            "🍴\n",
            "I love taking breaks\n",
            "❤️\n",
            "you brighten my day\n",
            "❤️\n",
            "I boiled rice\n",
            "🍴\n",
            "she is a bully\n",
            "❤️\n",
            "Why are you feeling bad\n",
            "😓\n",
            "I am upset\n",
            "😓\n",
            "I worked during my birthday\n",
            "😁\n",
            "My grandmother is the love of my life\n",
            "❤️\n",
            "enjoy your break\n",
            "⚾\n",
            "valentine day is near\n",
            "😁\n",
            "I miss you so much\n",
            "❤️\n",
            "throw the ball\n",
            "⚾\n",
            "My life is so boring\n",
            "❤️\n",
            "she said yes\n",
            "😁\n",
            "will you be my valentine\n",
            "❤️\n",
            "he can pitch really well\n",
            "⚾\n",
            "dance with me\n",
            "😁\n",
            "I am starving\n",
            "😓\n",
            "See you at the restaurant\n",
            "🍴\n",
            "I like to laugh\n",
            "😁\n",
            "I will go dance\n",
            "😁\n",
            "I like your jacket\n",
            "❤️\n",
            "i miss her\n",
            "❤️\n",
            "what is your favorite baseball game\n",
            "⚾\n",
            "Good job\n",
            "😁\n",
            "I love to the stars and back\n",
            "😁\n",
            "What you did was awesome\n",
            "😓\n",
            "ha ha ha lol\n",
            "😁\n",
            "I want to joke\n",
            "😓\n",
            "go away\n",
            "⚾\n",
            "yesterday we lost again\n",
            "😓\n",
            "family is all I have\n",
            "😁\n",
            "you are failing this exercise\n",
            "😓\n",
            "Good joke\n",
            "😁\n",
            "You totally deserve this prize\n",
            "😓\n",
            "I did not have breakfast\n",
            "🍴\n"
          ],
          "name": "stdout"
        }
      ]
    },
    {
      "cell_type": "code",
      "metadata": {
        "id": "pejK8CozPDCx",
        "colab_type": "code",
        "colab": {}
      },
      "source": [
        ""
      ],
      "execution_count": null,
      "outputs": []
    },
    {
      "cell_type": "markdown",
      "metadata": {
        "id": "EdH6pJJCPDCz",
        "colab_type": "text"
      },
      "source": [
        "# Custom Example Prediction"
      ]
    },
    {
      "cell_type": "code",
      "metadata": {
        "id": "OM0d5AHNPDCz",
        "colab_type": "code",
        "colab": {},
        "outputId": "c0fdf171-fd09-4d8d-df43-765d0fc318ed"
      },
      "source": [
        "x_query = input().lower() "
      ],
      "execution_count": null,
      "outputs": [
        {
          "output_type": "stream",
          "text": [
            "I like Data science\n"
          ],
          "name": "stdout"
        }
      ]
    },
    {
      "cell_type": "code",
      "metadata": {
        "id": "gB7wnYswPDC1",
        "colab_type": "code",
        "colab": {}
      },
      "source": [
        "embedding_x_query = []"
      ],
      "execution_count": null,
      "outputs": []
    },
    {
      "cell_type": "code",
      "metadata": {
        "id": "qkOgmjwbPDC3",
        "colab_type": "code",
        "colab": {},
        "outputId": "be0c1737-cf95-4b0c-fe68-64487c174c6f"
      },
      "source": [
        "for w in x_query.split():\n",
        "    print(w)\n",
        "    emb = embedding_index[w]\n",
        "    embedding_x_query.append(emb)"
      ],
      "execution_count": null,
      "outputs": [
        {
          "output_type": "stream",
          "text": [
            "i\n",
            "like\n",
            "data\n",
            "science\n"
          ],
          "name": "stdout"
        }
      ]
    },
    {
      "cell_type": "code",
      "metadata": {
        "id": "GtHc5VD1PDC5",
        "colab_type": "code",
        "colab": {}
      },
      "source": [
        "embedding_x_query = np.array(embedding_x_query)"
      ],
      "execution_count": null,
      "outputs": []
    },
    {
      "cell_type": "code",
      "metadata": {
        "id": "MaVGZNT3PDC6",
        "colab_type": "code",
        "colab": {},
        "outputId": "59899f75-1ca5-4538-df3b-88cbdd3bd1e9"
      },
      "source": [
        "embedding_x_query.shape"
      ],
      "execution_count": null,
      "outputs": [
        {
          "output_type": "execute_result",
          "data": {
            "text/plain": [
              "(4, 50)"
            ]
          },
          "metadata": {
            "tags": []
          },
          "execution_count": 88
        }
      ]
    },
    {
      "cell_type": "code",
      "metadata": {
        "id": "kyfwLvtmPDC8",
        "colab_type": "code",
        "colab": {}
      },
      "source": [
        "if embedding_x_query.shape[0]:\n",
        "    embedding_x_query = np.vstack((embedding_x_query , np.zeros((10 - len(x_query.split()), 50))))"
      ],
      "execution_count": null,
      "outputs": []
    },
    {
      "cell_type": "code",
      "metadata": {
        "id": "25wqZgxWPDC-",
        "colab_type": "code",
        "colab": {}
      },
      "source": [
        "embedding_x_query = embedding_x_query.reshape(1, 10, 50)"
      ],
      "execution_count": null,
      "outputs": []
    },
    {
      "cell_type": "code",
      "metadata": {
        "id": "2qF4gXNjPDDA",
        "colab_type": "code",
        "colab": {},
        "outputId": "62a70d35-5984-4b58-8f4a-f747cbb40988"
      },
      "source": [
        "embedding_x_query.shape"
      ],
      "execution_count": null,
      "outputs": [
        {
          "output_type": "execute_result",
          "data": {
            "text/plain": [
              "(1, 10, 50)"
            ]
          },
          "metadata": {
            "tags": []
          },
          "execution_count": 91
        }
      ]
    },
    {
      "cell_type": "code",
      "metadata": {
        "id": "O0jiDOh7PDDC",
        "colab_type": "code",
        "colab": {}
      },
      "source": [
        "p = model.predict_classes(embedding_x_query)"
      ],
      "execution_count": null,
      "outputs": []
    },
    {
      "cell_type": "code",
      "metadata": {
        "id": "1yIxCcRSPDDF",
        "colab_type": "code",
        "colab": {},
        "outputId": "829dee4b-41af-4fb0-dd24-c28f914c4c9d"
      },
      "source": [
        "print(emoji.emojize(emoji_dict[str(p[0])]))"
      ],
      "execution_count": null,
      "outputs": [
        {
          "output_type": "stream",
          "text": [
            "😁\n"
          ],
          "name": "stdout"
        }
      ]
    },
    {
      "cell_type": "markdown",
      "metadata": {
        "id": "nDuVSzDIPDDI",
        "colab_type": "text"
      },
      "source": [
        "### End !!"
      ]
    }
  ]
}